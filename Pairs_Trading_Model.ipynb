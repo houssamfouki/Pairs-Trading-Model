{
  "nbformat": 4,
  "nbformat_minor": 0,
  "metadata": {
    "colab": {
      "provenance": []
    },
    "kernelspec": {
      "name": "python3",
      "display_name": "Python 3"
    },
    "language_info": {
      "name": "python"
    }
  },
  "cells": [
    {
      "cell_type": "markdown",
      "source": [
        "## Advanced Machine Learning - Pairs Trading Model\n",
        "## ESSEC & CentraleSupélec"
      ],
      "metadata": {
        "id": "MjmZb9Hzu01y"
      }
    },
    {
      "cell_type": "markdown",
      "source": [
        "<div class=\"alert alert-block alert-info\">\n",
        "<b>By : FOUKI HOUSSAM - LARAQUI GHALI"
      ],
      "metadata": {
        "id": "39KcyKEfvR1U"
      }
    },
    {
      "cell_type": "markdown",
      "source": [
        "<p>0. Import all important libraries</p>\n",
        "<p>In this section, the necessary libraries are imported. These include:</p>\n",
        "<ul>\n",
        "  <li><code>yahoofinancials</code>: This library is used to retrieve stock data from Yahoo Finance. It allows you to request historical price data for a given set of stocks over a specified time period.</li>\n",
        "  <li><code>pandas</code>: This library is used for data manipulation and visualization. It provides functions for reading and writing data, handling missing values, and performing statistical analysis.</li>\n",
        "  <li><code>seaborn</code> and <code>matplotlib</code>: These libraries are used for data visualization. They provide functions for creating plots and charts, and allow you to customize the appearance of the plots.</li>\n",
        "  <li><code>numpy</code>: This library is used for numerical operations. It provides functions for performing mathematical operations on arrays, matrices, and other numerical data structures.</li>\n",
        "  <li><code>statsmodels</code>: This library is used for statistical analysis. It provides functions for fitting statistical models to data, performing hypothesis tests, and calculating summary statistics.</li>\n",
        "  <li><code>sklearn</code>: This library is used for machine learning. It provides functions for training and evaluating machine learning models, as well as functions for preprocessing data and evaluating model performance.</li>\n",
        "</ul>\n",
        "<p>1. Setup</p>\n",
        "<p>In this section, the code defines a list of stocks to analyze. This list is simply an array of strings containing the ticker symbols for the stocks.</p>\n",
        "<p>2. Load dataset & Data preparation</p>\n",
        "<p>In this section, the code either retrieves the stock data from Yahoo Finance using the <code>yahoofinancials</code> library or loads the data from a CSV file if it is available. If the data is being retrieved from Yahoo Finance, the <code>yahoofinancials</code> library is used to request The data is then stored in a <code>Pandas</code> DataFrame and cleaned for further processing. The date column is converted to a <code>datetime</code> data type and set as the index of the DataFrame. The data is then saved to a CSV file for future use.</p>\n",
        "<p>3. Statistical Analysis</p>\n",
        "<p>In this section, the code performs a statistical analysis on the data to identify cointegrated pairs. It does this by using the <code>coint</code> function from the <code>statsmodels</code> library to calculate a t-statistic and p-value for each pair of stocks. The <code>coint</code> function tests the hypothesis that two time series are cointegrated, and returns a t-statistic and p-value that can be used to evaluate the hypothesis. If the p-value is below a certain threshold (e.g. 0.05), then the hypothesis can be rejected and the two time series can be considered cointegrated.</p>\n",
        "<p>4. Machine Learning</p>\n",
        "<p>In this section, the code trains and evaluates several machine learning models to predict the spread between the pairs of stocks. The models include linear regression, random forest regression, and a multi-layer perceptron. The code uses the <code>sklearn</code> library to train and evaluate the models.</p>\n",
        "\n",
        "<p>To train the models, the code first splits the data into training and test sets using the <code>train_test_split</code> function from <code>sklearn</code>. The training set is used to fit the models, and the test set is used to evaluate the performance of the models. The code then uses the <code>LinearRegression</code>, <code>RandomForestRegressor</code>, and <code>MLPRegressor</code> classes from <code>sklearn</code> to train the respective models.</p>\n",
        "<p>To evaluate the models, the code calculates the mean squared error (<code>MSE</code>) between the predicted and actual values for the spread. The <code>MSE</code> is a measure of the difference between the predicted and actual values, and is a commonly used metric for evaluating the performance of regression models. A lower <code>MSE</code> indicates a better fit.</p>\n",
        "<p>5. Results</p>\n",
        "<p>In this final section, the code visualizes the results of the machine learning models and compares their performance. It does this by plotting the predicted and actual values for the spread, and by calculating the <code>MSE</code> for each model. The code also discusses the implications of the results and offers some suggestions for further work.</p>\n",
        "<p>Overall, this code provides a framework for performing a pairs trading strategy based on cointegration applied to S&P 500 data using Python. It demonstrates how to retrieve and clean financial data, test for cointegration, and apply machine learning techniques to predict the spread between pairs of stocks. By following the steps outlined in this code, you can build your own pairs trading system and potentially realize returns from the S&P 500 market.</p>"
      ],
      "metadata": {
        "id": "iuwh3x2Yrwxx"
      }
    },
    {
      "cell_type": "code",
      "execution_count": null,
      "metadata": {
        "colab": {
          "base_uri": "https://localhost:8080/"
        },
        "id": "1BxVyhotrGkU",
        "outputId": "f925ec51-6165-4a3b-8b07-23b30c4b6aa7"
      },
      "outputs": [
        {
          "output_type": "stream",
          "name": "stdout",
          "text": [
            "Looking in indexes: https://pypi.org/simple, https://us-python.pkg.dev/colab-wheels/public/simple/\n",
            "Collecting yahoofinancials\n",
            "  Downloading yahoofinancials-1.8.tar.gz (28 kB)\n",
            "  Preparing metadata (setup.py) ... \u001b[?25l\u001b[?25hdone\n",
            "Collecting beautifulsoup4>=4.11.1\n",
            "  Downloading beautifulsoup4-4.11.1-py3-none-any.whl (128 kB)\n",
            "\u001b[2K     \u001b[90m━━━━━━━━━━━━━━━━━━━━━━━━━━━━━━━━━━━━━━━\u001b[0m \u001b[32m128.2/128.2 KB\u001b[0m \u001b[31m9.2 MB/s\u001b[0m eta \u001b[36m0:00:00\u001b[0m\n",
            "\u001b[?25hRequirement already satisfied: pytz in /usr/local/lib/python3.8/dist-packages (from yahoofinancials) (2022.7)\n",
            "Collecting cryptography>=3.3.2\n",
            "  Downloading cryptography-39.0.0-cp36-abi3-manylinux_2_24_x86_64.whl (4.1 MB)\n",
            "\u001b[2K     \u001b[90m━━━━━━━━━━━━━━━━━━━━━━━━━━━━━━━━━━━━━━━━\u001b[0m \u001b[32m4.1/4.1 MB\u001b[0m \u001b[31m58.3 MB/s\u001b[0m eta \u001b[36m0:00:00\u001b[0m\n",
            "\u001b[?25hCollecting soupsieve>1.2\n",
            "  Downloading soupsieve-2.3.2.post1-py3-none-any.whl (37 kB)\n",
            "Requirement already satisfied: cffi>=1.12 in /usr/local/lib/python3.8/dist-packages (from cryptography>=3.3.2->yahoofinancials) (1.15.1)\n",
            "Requirement already satisfied: pycparser in /usr/local/lib/python3.8/dist-packages (from cffi>=1.12->cryptography>=3.3.2->yahoofinancials) (2.21)\n",
            "Building wheels for collected packages: yahoofinancials\n",
            "  Building wheel for yahoofinancials (setup.py) ... \u001b[?25l\u001b[?25hdone\n",
            "  Created wheel for yahoofinancials: filename=yahoofinancials-1.8-py3-none-any.whl size=16277 sha256=344a2530d91886ec9486f6f9dbb1b3ebcbac40718eec67ac48eefeaf7af557e4\n",
            "  Stored in directory: /root/.cache/pip/wheels/d9/ac/d6/ec466f80762eb0b17856558b13bc247e46888ba432d2b310f5\n",
            "Successfully built yahoofinancials\n",
            "Installing collected packages: soupsieve, cryptography, beautifulsoup4, yahoofinancials\n",
            "  Attempting uninstall: beautifulsoup4\n",
            "    Found existing installation: beautifulsoup4 4.6.3\n",
            "    Uninstalling beautifulsoup4-4.6.3:\n",
            "      Successfully uninstalled beautifulsoup4-4.6.3\n",
            "Successfully installed beautifulsoup4-4.11.1 cryptography-39.0.0 soupsieve-2.3.2.post1 yahoofinancials-1.8\n"
          ]
        }
      ],
      "source": [
        "!pip install yahoofinancials"
      ]
    },
    {
      "cell_type": "markdown",
      "source": [
        "# Import all important libraries"
      ],
      "metadata": {
        "id": "8SiOw5k9sDzb"
      }
    },
    {
      "cell_type": "code",
      "source": [
        "# Import yahoofinancials library for retrieving stock data\n",
        "import yahoofinancials\n",
        "# Import libraries for data manipulation and visualization\n",
        "import pandas as pd\n",
        "import seaborn as sb\n",
        "import matplotlib.pyplot as plt\n",
        "import numpy as np\n",
        "# Import statsmodels library for statistical analysis\n",
        "import statsmodels.api as sm\n",
        "from statsmodels.tsa.stattools import coint\n",
        "# Import libraries for machine learning\n",
        "from sklearn.linear_model import LinearRegression\n",
        "from sklearn.ensemble import RandomForestRegressor\n",
        "from sklearn.model_selection import train_test_split\n",
        "from sklearn.metrics import mean_squared_error\n",
        "from sklearn.neural_network import MLPRegressor"
      ],
      "metadata": {
        "id": "84ymZ2s7Etqv"
      },
      "execution_count": null,
      "outputs": []
    },
    {
      "cell_type": "code",
      "source": [
        "stock_list=[ 'AMD', 'GOOGL', 'GOOG', 'MO', 'AMZN',\n",
        "             'APA', 'AAPL', 'AMAT', 'APTV', 'ADM','BKR',\n",
        "             'WHR','WMB','WYNN','XEL','XYL','YUM']"
      ],
      "metadata": {
        "id": "UNmYxoT4rX2W"
      },
      "execution_count": null,
      "outputs": []
    },
    {
      "cell_type": "markdown",
      "source": [
        "#  Load dataset & Data preparation\n",
        "\n",
        "* If the first time runing or u don't have the data :\n",
        "\n",
        "    **We will use Yahoo Api to get financials data**\n",
        "        * S&P 500\n",
        "\n",
        "If not Jump to [Load the data from CSV File]"
      ],
      "metadata": {
        "id": "3BMMZvYRsVtc"
      }
    },
    {
      "cell_type": "markdown",
      "source": [
        "##   Using YahooFinancials"
      ],
      "metadata": {
        "id": "s8CTqFXJsksv"
      }
    },
    {
      "cell_type": "code",
      "source": [
        "from yahoofinancials import YahooFinancials\n",
        "\n",
        "yahoo_financials = yahoofinancials.YahooFinancials(stock_list)\n",
        "stock_data = yahoo_financials.get_historical_price_data(start_date='2010-01-01', end_date='2023-01-01', time_interval='daily')\n"
      ],
      "metadata": {
        "id": "4qNBAmRKraHx"
      },
      "execution_count": null,
      "outputs": []
    },
    {
      "cell_type": "code",
      "source": [
        "df = pd.DataFrame()\n",
        "for s in stock_list:\n",
        "    if \"prices\"  in stock_data[s].keys():\n",
        "        df[s] = pd.DataFrame(stock_data[s]['prices'])[['formatted_date', 'close']].set_index('formatted_date')['close']\n"
      ],
      "metadata": {
        "id": "WjIWo5gUr4OK"
      },
      "execution_count": null,
      "outputs": []
    },
    {
      "cell_type": "code",
      "source": [
        "df.head()"
      ],
      "metadata": {
        "colab": {
          "base_uri": "https://localhost:8080/",
          "height": 302
        },
        "id": "Mu7rlTDXr6DE",
        "outputId": "55b89b2c-e465-496f-98bc-c5a09ca08c8d"
      },
      "execution_count": null,
      "outputs": [
        {
          "output_type": "execute_result",
          "data": {
            "text/plain": [
              "                 AMD      GOOGL       GOOG         MO    AMZN         APA  \\\n",
              "formatted_date                                                              \n",
              "2010-01-04      9.70  15.684434  15.610239  19.790001  6.6950  105.870003   \n",
              "2010-01-05      9.71  15.615365  15.541497  19.799999  6.7345  107.120003   \n",
              "2010-01-06      9.57  15.221722  15.149715  20.090000  6.6125  108.800003   \n",
              "2010-01-07      9.47  14.867367  14.797037  20.059999  6.5000  107.150002   \n",
              "2010-01-08      9.43  15.065566  14.994298  20.110001  6.6760  106.589996   \n",
              "\n",
              "                    AAPL   AMAT  APTV        ADM        BKR        WHR  \\\n",
              "formatted_date                                                           \n",
              "2010-01-04      7.643214  14.30   NaN  31.469999  41.240002  81.949997   \n",
              "2010-01-05      7.656429  14.19   NaN  31.639999  43.660000  81.779999   \n",
              "2010-01-06      7.534643  14.16   NaN  31.559999  45.840000  81.059998   \n",
              "2010-01-07      7.520714  14.01   NaN  31.230000  46.169998  82.800003   \n",
              "2010-01-08      7.570714  14.55   NaN  30.840000  47.099998  84.559998   \n",
              "\n",
              "                      WMB       WYNN        XEL  XYL        YUM  \n",
              "formatted_date                                                   \n",
              "2010-01-04      17.616472  63.959999  21.080000  NaN  25.226456  \n",
              "2010-01-05      17.836576  67.849998  20.830000  NaN  25.140186  \n",
              "2010-01-06      18.415367  66.959999  20.870001  NaN  24.960461  \n",
              "2010-01-07      18.284937  68.389999  20.780001  NaN  24.953272  \n",
              "2010-01-08      18.431671  67.900002  20.790001  NaN  24.960461  "
            ],
            "text/html": [
              "\n",
              "  <div id=\"df-c9111504-7af5-4533-bc49-fcdb12f240ff\">\n",
              "    <div class=\"colab-df-container\">\n",
              "      <div>\n",
              "<style scoped>\n",
              "    .dataframe tbody tr th:only-of-type {\n",
              "        vertical-align: middle;\n",
              "    }\n",
              "\n",
              "    .dataframe tbody tr th {\n",
              "        vertical-align: top;\n",
              "    }\n",
              "\n",
              "    .dataframe thead th {\n",
              "        text-align: right;\n",
              "    }\n",
              "</style>\n",
              "<table border=\"1\" class=\"dataframe\">\n",
              "  <thead>\n",
              "    <tr style=\"text-align: right;\">\n",
              "      <th></th>\n",
              "      <th>AMD</th>\n",
              "      <th>GOOGL</th>\n",
              "      <th>GOOG</th>\n",
              "      <th>MO</th>\n",
              "      <th>AMZN</th>\n",
              "      <th>APA</th>\n",
              "      <th>AAPL</th>\n",
              "      <th>AMAT</th>\n",
              "      <th>APTV</th>\n",
              "      <th>ADM</th>\n",
              "      <th>BKR</th>\n",
              "      <th>WHR</th>\n",
              "      <th>WMB</th>\n",
              "      <th>WYNN</th>\n",
              "      <th>XEL</th>\n",
              "      <th>XYL</th>\n",
              "      <th>YUM</th>\n",
              "    </tr>\n",
              "    <tr>\n",
              "      <th>formatted_date</th>\n",
              "      <th></th>\n",
              "      <th></th>\n",
              "      <th></th>\n",
              "      <th></th>\n",
              "      <th></th>\n",
              "      <th></th>\n",
              "      <th></th>\n",
              "      <th></th>\n",
              "      <th></th>\n",
              "      <th></th>\n",
              "      <th></th>\n",
              "      <th></th>\n",
              "      <th></th>\n",
              "      <th></th>\n",
              "      <th></th>\n",
              "      <th></th>\n",
              "      <th></th>\n",
              "    </tr>\n",
              "  </thead>\n",
              "  <tbody>\n",
              "    <tr>\n",
              "      <th>2010-01-04</th>\n",
              "      <td>9.70</td>\n",
              "      <td>15.684434</td>\n",
              "      <td>15.610239</td>\n",
              "      <td>19.790001</td>\n",
              "      <td>6.6950</td>\n",
              "      <td>105.870003</td>\n",
              "      <td>7.643214</td>\n",
              "      <td>14.30</td>\n",
              "      <td>NaN</td>\n",
              "      <td>31.469999</td>\n",
              "      <td>41.240002</td>\n",
              "      <td>81.949997</td>\n",
              "      <td>17.616472</td>\n",
              "      <td>63.959999</td>\n",
              "      <td>21.080000</td>\n",
              "      <td>NaN</td>\n",
              "      <td>25.226456</td>\n",
              "    </tr>\n",
              "    <tr>\n",
              "      <th>2010-01-05</th>\n",
              "      <td>9.71</td>\n",
              "      <td>15.615365</td>\n",
              "      <td>15.541497</td>\n",
              "      <td>19.799999</td>\n",
              "      <td>6.7345</td>\n",
              "      <td>107.120003</td>\n",
              "      <td>7.656429</td>\n",
              "      <td>14.19</td>\n",
              "      <td>NaN</td>\n",
              "      <td>31.639999</td>\n",
              "      <td>43.660000</td>\n",
              "      <td>81.779999</td>\n",
              "      <td>17.836576</td>\n",
              "      <td>67.849998</td>\n",
              "      <td>20.830000</td>\n",
              "      <td>NaN</td>\n",
              "      <td>25.140186</td>\n",
              "    </tr>\n",
              "    <tr>\n",
              "      <th>2010-01-06</th>\n",
              "      <td>9.57</td>\n",
              "      <td>15.221722</td>\n",
              "      <td>15.149715</td>\n",
              "      <td>20.090000</td>\n",
              "      <td>6.6125</td>\n",
              "      <td>108.800003</td>\n",
              "      <td>7.534643</td>\n",
              "      <td>14.16</td>\n",
              "      <td>NaN</td>\n",
              "      <td>31.559999</td>\n",
              "      <td>45.840000</td>\n",
              "      <td>81.059998</td>\n",
              "      <td>18.415367</td>\n",
              "      <td>66.959999</td>\n",
              "      <td>20.870001</td>\n",
              "      <td>NaN</td>\n",
              "      <td>24.960461</td>\n",
              "    </tr>\n",
              "    <tr>\n",
              "      <th>2010-01-07</th>\n",
              "      <td>9.47</td>\n",
              "      <td>14.867367</td>\n",
              "      <td>14.797037</td>\n",
              "      <td>20.059999</td>\n",
              "      <td>6.5000</td>\n",
              "      <td>107.150002</td>\n",
              "      <td>7.520714</td>\n",
              "      <td>14.01</td>\n",
              "      <td>NaN</td>\n",
              "      <td>31.230000</td>\n",
              "      <td>46.169998</td>\n",
              "      <td>82.800003</td>\n",
              "      <td>18.284937</td>\n",
              "      <td>68.389999</td>\n",
              "      <td>20.780001</td>\n",
              "      <td>NaN</td>\n",
              "      <td>24.953272</td>\n",
              "    </tr>\n",
              "    <tr>\n",
              "      <th>2010-01-08</th>\n",
              "      <td>9.43</td>\n",
              "      <td>15.065566</td>\n",
              "      <td>14.994298</td>\n",
              "      <td>20.110001</td>\n",
              "      <td>6.6760</td>\n",
              "      <td>106.589996</td>\n",
              "      <td>7.570714</td>\n",
              "      <td>14.55</td>\n",
              "      <td>NaN</td>\n",
              "      <td>30.840000</td>\n",
              "      <td>47.099998</td>\n",
              "      <td>84.559998</td>\n",
              "      <td>18.431671</td>\n",
              "      <td>67.900002</td>\n",
              "      <td>20.790001</td>\n",
              "      <td>NaN</td>\n",
              "      <td>24.960461</td>\n",
              "    </tr>\n",
              "  </tbody>\n",
              "</table>\n",
              "</div>\n",
              "      <button class=\"colab-df-convert\" onclick=\"convertToInteractive('df-c9111504-7af5-4533-bc49-fcdb12f240ff')\"\n",
              "              title=\"Convert this dataframe to an interactive table.\"\n",
              "              style=\"display:none;\">\n",
              "        \n",
              "  <svg xmlns=\"http://www.w3.org/2000/svg\" height=\"24px\"viewBox=\"0 0 24 24\"\n",
              "       width=\"24px\">\n",
              "    <path d=\"M0 0h24v24H0V0z\" fill=\"none\"/>\n",
              "    <path d=\"M18.56 5.44l.94 2.06.94-2.06 2.06-.94-2.06-.94-.94-2.06-.94 2.06-2.06.94zm-11 1L8.5 8.5l.94-2.06 2.06-.94-2.06-.94L8.5 2.5l-.94 2.06-2.06.94zm10 10l.94 2.06.94-2.06 2.06-.94-2.06-.94-.94-2.06-.94 2.06-2.06.94z\"/><path d=\"M17.41 7.96l-1.37-1.37c-.4-.4-.92-.59-1.43-.59-.52 0-1.04.2-1.43.59L10.3 9.45l-7.72 7.72c-.78.78-.78 2.05 0 2.83L4 21.41c.39.39.9.59 1.41.59.51 0 1.02-.2 1.41-.59l7.78-7.78 2.81-2.81c.8-.78.8-2.07 0-2.86zM5.41 20L4 18.59l7.72-7.72 1.47 1.35L5.41 20z\"/>\n",
              "  </svg>\n",
              "      </button>\n",
              "      \n",
              "  <style>\n",
              "    .colab-df-container {\n",
              "      display:flex;\n",
              "      flex-wrap:wrap;\n",
              "      gap: 12px;\n",
              "    }\n",
              "\n",
              "    .colab-df-convert {\n",
              "      background-color: #E8F0FE;\n",
              "      border: none;\n",
              "      border-radius: 50%;\n",
              "      cursor: pointer;\n",
              "      display: none;\n",
              "      fill: #1967D2;\n",
              "      height: 32px;\n",
              "      padding: 0 0 0 0;\n",
              "      width: 32px;\n",
              "    }\n",
              "\n",
              "    .colab-df-convert:hover {\n",
              "      background-color: #E2EBFA;\n",
              "      box-shadow: 0px 1px 2px rgba(60, 64, 67, 0.3), 0px 1px 3px 1px rgba(60, 64, 67, 0.15);\n",
              "      fill: #174EA6;\n",
              "    }\n",
              "\n",
              "    [theme=dark] .colab-df-convert {\n",
              "      background-color: #3B4455;\n",
              "      fill: #D2E3FC;\n",
              "    }\n",
              "\n",
              "    [theme=dark] .colab-df-convert:hover {\n",
              "      background-color: #434B5C;\n",
              "      box-shadow: 0px 1px 3px 1px rgba(0, 0, 0, 0.15);\n",
              "      filter: drop-shadow(0px 1px 2px rgba(0, 0, 0, 0.3));\n",
              "      fill: #FFFFFF;\n",
              "    }\n",
              "  </style>\n",
              "\n",
              "      <script>\n",
              "        const buttonEl =\n",
              "          document.querySelector('#df-c9111504-7af5-4533-bc49-fcdb12f240ff button.colab-df-convert');\n",
              "        buttonEl.style.display =\n",
              "          google.colab.kernel.accessAllowed ? 'block' : 'none';\n",
              "\n",
              "        async function convertToInteractive(key) {\n",
              "          const element = document.querySelector('#df-c9111504-7af5-4533-bc49-fcdb12f240ff');\n",
              "          const dataTable =\n",
              "            await google.colab.kernel.invokeFunction('convertToInteractive',\n",
              "                                                     [key], {});\n",
              "          if (!dataTable) return;\n",
              "\n",
              "          const docLinkHtml = 'Like what you see? Visit the ' +\n",
              "            '<a target=\"_blank\" href=https://colab.research.google.com/notebooks/data_table.ipynb>data table notebook</a>'\n",
              "            + ' to learn more about interactive tables.';\n",
              "          element.innerHTML = '';\n",
              "          dataTable['output_type'] = 'display_data';\n",
              "          await google.colab.output.renderOutput(dataTable, element);\n",
              "          const docLink = document.createElement('div');\n",
              "          docLink.innerHTML = docLinkHtml;\n",
              "          element.appendChild(docLink);\n",
              "        }\n",
              "      </script>\n",
              "    </div>\n",
              "  </div>\n",
              "  "
            ]
          },
          "metadata": {},
          "execution_count": 8
        }
      ]
    },
    {
      "cell_type": "code",
      "source": [
        "used_stock_list = list(df.columns.values)\n",
        "df.reset_index(inplace=True)"
      ],
      "metadata": {
        "id": "jci8_XWMvU3P"
      },
      "execution_count": null,
      "outputs": []
    },
    {
      "cell_type": "code",
      "source": [
        "df.head()"
      ],
      "metadata": {
        "colab": {
          "base_uri": "https://localhost:8080/",
          "height": 270
        },
        "id": "nGfkhmmFvYiQ",
        "outputId": "83de120c-a66c-47aa-9f7f-6b39b55ea53b"
      },
      "execution_count": null,
      "outputs": [
        {
          "output_type": "execute_result",
          "data": {
            "text/plain": [
              "  formatted_date   AMD      GOOGL       GOOG         MO    AMZN         APA  \\\n",
              "0     2010-01-04  9.70  15.684434  15.610239  19.790001  6.6950  105.870003   \n",
              "1     2010-01-05  9.71  15.615365  15.541497  19.799999  6.7345  107.120003   \n",
              "2     2010-01-06  9.57  15.221722  15.149715  20.090000  6.6125  108.800003   \n",
              "3     2010-01-07  9.47  14.867367  14.797037  20.059999  6.5000  107.150002   \n",
              "4     2010-01-08  9.43  15.065566  14.994298  20.110001  6.6760  106.589996   \n",
              "\n",
              "       AAPL   AMAT  APTV        ADM        BKR        WHR        WMB  \\\n",
              "0  7.643214  14.30   NaN  31.469999  41.240002  81.949997  17.616472   \n",
              "1  7.656429  14.19   NaN  31.639999  43.660000  81.779999  17.836576   \n",
              "2  7.534643  14.16   NaN  31.559999  45.840000  81.059998  18.415367   \n",
              "3  7.520714  14.01   NaN  31.230000  46.169998  82.800003  18.284937   \n",
              "4  7.570714  14.55   NaN  30.840000  47.099998  84.559998  18.431671   \n",
              "\n",
              "        WYNN        XEL  XYL        YUM  \n",
              "0  63.959999  21.080000  NaN  25.226456  \n",
              "1  67.849998  20.830000  NaN  25.140186  \n",
              "2  66.959999  20.870001  NaN  24.960461  \n",
              "3  68.389999  20.780001  NaN  24.953272  \n",
              "4  67.900002  20.790001  NaN  24.960461  "
            ],
            "text/html": [
              "\n",
              "  <div id=\"df-74d377bc-c7b1-4fc1-85a0-08fb38996426\">\n",
              "    <div class=\"colab-df-container\">\n",
              "      <div>\n",
              "<style scoped>\n",
              "    .dataframe tbody tr th:only-of-type {\n",
              "        vertical-align: middle;\n",
              "    }\n",
              "\n",
              "    .dataframe tbody tr th {\n",
              "        vertical-align: top;\n",
              "    }\n",
              "\n",
              "    .dataframe thead th {\n",
              "        text-align: right;\n",
              "    }\n",
              "</style>\n",
              "<table border=\"1\" class=\"dataframe\">\n",
              "  <thead>\n",
              "    <tr style=\"text-align: right;\">\n",
              "      <th></th>\n",
              "      <th>formatted_date</th>\n",
              "      <th>AMD</th>\n",
              "      <th>GOOGL</th>\n",
              "      <th>GOOG</th>\n",
              "      <th>MO</th>\n",
              "      <th>AMZN</th>\n",
              "      <th>APA</th>\n",
              "      <th>AAPL</th>\n",
              "      <th>AMAT</th>\n",
              "      <th>APTV</th>\n",
              "      <th>ADM</th>\n",
              "      <th>BKR</th>\n",
              "      <th>WHR</th>\n",
              "      <th>WMB</th>\n",
              "      <th>WYNN</th>\n",
              "      <th>XEL</th>\n",
              "      <th>XYL</th>\n",
              "      <th>YUM</th>\n",
              "    </tr>\n",
              "  </thead>\n",
              "  <tbody>\n",
              "    <tr>\n",
              "      <th>0</th>\n",
              "      <td>2010-01-04</td>\n",
              "      <td>9.70</td>\n",
              "      <td>15.684434</td>\n",
              "      <td>15.610239</td>\n",
              "      <td>19.790001</td>\n",
              "      <td>6.6950</td>\n",
              "      <td>105.870003</td>\n",
              "      <td>7.643214</td>\n",
              "      <td>14.30</td>\n",
              "      <td>NaN</td>\n",
              "      <td>31.469999</td>\n",
              "      <td>41.240002</td>\n",
              "      <td>81.949997</td>\n",
              "      <td>17.616472</td>\n",
              "      <td>63.959999</td>\n",
              "      <td>21.080000</td>\n",
              "      <td>NaN</td>\n",
              "      <td>25.226456</td>\n",
              "    </tr>\n",
              "    <tr>\n",
              "      <th>1</th>\n",
              "      <td>2010-01-05</td>\n",
              "      <td>9.71</td>\n",
              "      <td>15.615365</td>\n",
              "      <td>15.541497</td>\n",
              "      <td>19.799999</td>\n",
              "      <td>6.7345</td>\n",
              "      <td>107.120003</td>\n",
              "      <td>7.656429</td>\n",
              "      <td>14.19</td>\n",
              "      <td>NaN</td>\n",
              "      <td>31.639999</td>\n",
              "      <td>43.660000</td>\n",
              "      <td>81.779999</td>\n",
              "      <td>17.836576</td>\n",
              "      <td>67.849998</td>\n",
              "      <td>20.830000</td>\n",
              "      <td>NaN</td>\n",
              "      <td>25.140186</td>\n",
              "    </tr>\n",
              "    <tr>\n",
              "      <th>2</th>\n",
              "      <td>2010-01-06</td>\n",
              "      <td>9.57</td>\n",
              "      <td>15.221722</td>\n",
              "      <td>15.149715</td>\n",
              "      <td>20.090000</td>\n",
              "      <td>6.6125</td>\n",
              "      <td>108.800003</td>\n",
              "      <td>7.534643</td>\n",
              "      <td>14.16</td>\n",
              "      <td>NaN</td>\n",
              "      <td>31.559999</td>\n",
              "      <td>45.840000</td>\n",
              "      <td>81.059998</td>\n",
              "      <td>18.415367</td>\n",
              "      <td>66.959999</td>\n",
              "      <td>20.870001</td>\n",
              "      <td>NaN</td>\n",
              "      <td>24.960461</td>\n",
              "    </tr>\n",
              "    <tr>\n",
              "      <th>3</th>\n",
              "      <td>2010-01-07</td>\n",
              "      <td>9.47</td>\n",
              "      <td>14.867367</td>\n",
              "      <td>14.797037</td>\n",
              "      <td>20.059999</td>\n",
              "      <td>6.5000</td>\n",
              "      <td>107.150002</td>\n",
              "      <td>7.520714</td>\n",
              "      <td>14.01</td>\n",
              "      <td>NaN</td>\n",
              "      <td>31.230000</td>\n",
              "      <td>46.169998</td>\n",
              "      <td>82.800003</td>\n",
              "      <td>18.284937</td>\n",
              "      <td>68.389999</td>\n",
              "      <td>20.780001</td>\n",
              "      <td>NaN</td>\n",
              "      <td>24.953272</td>\n",
              "    </tr>\n",
              "    <tr>\n",
              "      <th>4</th>\n",
              "      <td>2010-01-08</td>\n",
              "      <td>9.43</td>\n",
              "      <td>15.065566</td>\n",
              "      <td>14.994298</td>\n",
              "      <td>20.110001</td>\n",
              "      <td>6.6760</td>\n",
              "      <td>106.589996</td>\n",
              "      <td>7.570714</td>\n",
              "      <td>14.55</td>\n",
              "      <td>NaN</td>\n",
              "      <td>30.840000</td>\n",
              "      <td>47.099998</td>\n",
              "      <td>84.559998</td>\n",
              "      <td>18.431671</td>\n",
              "      <td>67.900002</td>\n",
              "      <td>20.790001</td>\n",
              "      <td>NaN</td>\n",
              "      <td>24.960461</td>\n",
              "    </tr>\n",
              "  </tbody>\n",
              "</table>\n",
              "</div>\n",
              "      <button class=\"colab-df-convert\" onclick=\"convertToInteractive('df-74d377bc-c7b1-4fc1-85a0-08fb38996426')\"\n",
              "              title=\"Convert this dataframe to an interactive table.\"\n",
              "              style=\"display:none;\">\n",
              "        \n",
              "  <svg xmlns=\"http://www.w3.org/2000/svg\" height=\"24px\"viewBox=\"0 0 24 24\"\n",
              "       width=\"24px\">\n",
              "    <path d=\"M0 0h24v24H0V0z\" fill=\"none\"/>\n",
              "    <path d=\"M18.56 5.44l.94 2.06.94-2.06 2.06-.94-2.06-.94-.94-2.06-.94 2.06-2.06.94zm-11 1L8.5 8.5l.94-2.06 2.06-.94-2.06-.94L8.5 2.5l-.94 2.06-2.06.94zm10 10l.94 2.06.94-2.06 2.06-.94-2.06-.94-.94-2.06-.94 2.06-2.06.94z\"/><path d=\"M17.41 7.96l-1.37-1.37c-.4-.4-.92-.59-1.43-.59-.52 0-1.04.2-1.43.59L10.3 9.45l-7.72 7.72c-.78.78-.78 2.05 0 2.83L4 21.41c.39.39.9.59 1.41.59.51 0 1.02-.2 1.41-.59l7.78-7.78 2.81-2.81c.8-.78.8-2.07 0-2.86zM5.41 20L4 18.59l7.72-7.72 1.47 1.35L5.41 20z\"/>\n",
              "  </svg>\n",
              "      </button>\n",
              "      \n",
              "  <style>\n",
              "    .colab-df-container {\n",
              "      display:flex;\n",
              "      flex-wrap:wrap;\n",
              "      gap: 12px;\n",
              "    }\n",
              "\n",
              "    .colab-df-convert {\n",
              "      background-color: #E8F0FE;\n",
              "      border: none;\n",
              "      border-radius: 50%;\n",
              "      cursor: pointer;\n",
              "      display: none;\n",
              "      fill: #1967D2;\n",
              "      height: 32px;\n",
              "      padding: 0 0 0 0;\n",
              "      width: 32px;\n",
              "    }\n",
              "\n",
              "    .colab-df-convert:hover {\n",
              "      background-color: #E2EBFA;\n",
              "      box-shadow: 0px 1px 2px rgba(60, 64, 67, 0.3), 0px 1px 3px 1px rgba(60, 64, 67, 0.15);\n",
              "      fill: #174EA6;\n",
              "    }\n",
              "\n",
              "    [theme=dark] .colab-df-convert {\n",
              "      background-color: #3B4455;\n",
              "      fill: #D2E3FC;\n",
              "    }\n",
              "\n",
              "    [theme=dark] .colab-df-convert:hover {\n",
              "      background-color: #434B5C;\n",
              "      box-shadow: 0px 1px 3px 1px rgba(0, 0, 0, 0.15);\n",
              "      filter: drop-shadow(0px 1px 2px rgba(0, 0, 0, 0.3));\n",
              "      fill: #FFFFFF;\n",
              "    }\n",
              "  </style>\n",
              "\n",
              "      <script>\n",
              "        const buttonEl =\n",
              "          document.querySelector('#df-74d377bc-c7b1-4fc1-85a0-08fb38996426 button.colab-df-convert');\n",
              "        buttonEl.style.display =\n",
              "          google.colab.kernel.accessAllowed ? 'block' : 'none';\n",
              "\n",
              "        async function convertToInteractive(key) {\n",
              "          const element = document.querySelector('#df-74d377bc-c7b1-4fc1-85a0-08fb38996426');\n",
              "          const dataTable =\n",
              "            await google.colab.kernel.invokeFunction('convertToInteractive',\n",
              "                                                     [key], {});\n",
              "          if (!dataTable) return;\n",
              "\n",
              "          const docLinkHtml = 'Like what you see? Visit the ' +\n",
              "            '<a target=\"_blank\" href=https://colab.research.google.com/notebooks/data_table.ipynb>data table notebook</a>'\n",
              "            + ' to learn more about interactive tables.';\n",
              "          element.innerHTML = '';\n",
              "          dataTable['output_type'] = 'display_data';\n",
              "          await google.colab.output.renderOutput(dataTable, element);\n",
              "          const docLink = document.createElement('div');\n",
              "          docLink.innerHTML = docLinkHtml;\n",
              "          element.appendChild(docLink);\n",
              "        }\n",
              "      </script>\n",
              "    </div>\n",
              "  </div>\n",
              "  "
            ]
          },
          "metadata": {},
          "execution_count": 10
        }
      ]
    },
    {
      "cell_type": "markdown",
      "source": [
        "####  Convert the formatted_date to datetime & set it as index"
      ],
      "metadata": {
        "id": "IoSK_wtdsp5u"
      }
    },
    {
      "cell_type": "code",
      "source": [
        "# Convert the date column to datetime and set it as the index\n",
        "df['formatted_date'] = pd.to_datetime(df['formatted_date'])\n",
        "df.set_index('formatted_date', inplace=True)"
      ],
      "metadata": {
        "id": "M5YXz_yHr_4U"
      },
      "execution_count": null,
      "outputs": []
    },
    {
      "cell_type": "markdown",
      "source": [
        "#### Save the data as csv fille"
      ],
      "metadata": {
        "id": "SEZGqU1AsuZE"
      }
    },
    {
      "cell_type": "code",
      "source": [
        "df.to_csv(\"s&p500_data.csv\")"
      ],
      "metadata": {
        "id": "laMhi84Xua1Y"
      },
      "execution_count": null,
      "outputs": []
    },
    {
      "cell_type": "markdown",
      "source": [
        "##   Load the data from CSV File (Run if you have the btc csv file)"
      ],
      "metadata": {
        "id": "wpwt8CWxsz-1"
      }
    },
    {
      "cell_type": "markdown",
      "source": [],
      "metadata": {
        "id": "y_GEMKp3s0dE"
      }
    },
    {
      "cell_type": "code",
      "source": [
        "df = pd.read_csv(\"s&p500_data.csv\")\n",
        "df['formatted_date'] = pd.to_datetime(df['formatted_date'])\n",
        "df.set_index('formatted_date', inplace=True)"
      ],
      "metadata": {
        "id": "n823zU9kuoZg"
      },
      "execution_count": null,
      "outputs": []
    },
    {
      "cell_type": "markdown",
      "source": [
        "#  preprocessing"
      ],
      "metadata": {
        "id": "Xt1lZvays3gM"
      }
    },
    {
      "cell_type": "markdown",
      "source": [
        "**Check if there is any NaN values**"
      ],
      "metadata": {
        "id": "K7gg7faVs6Ex"
      }
    },
    {
      "cell_type": "code",
      "source": [
        "print(\"Is there any NaN values -------->\", df.isna().any().any())"
      ],
      "metadata": {
        "colab": {
          "base_uri": "https://localhost:8080/"
        },
        "id": "wRnCRkuHuvjY",
        "outputId": "1df1dafc-2364-4b0c-80ff-52503391c786"
      },
      "execution_count": null,
      "outputs": [
        {
          "output_type": "stream",
          "name": "stdout",
          "text": [
            "Is there any NaN values --------> True\n"
          ]
        }
      ]
    },
    {
      "cell_type": "markdown",
      "source": [
        "**Fill NA/NaN values by propagating last valid observation forward to next valid & verse versa**"
      ],
      "metadata": {
        "id": "TpMwa8Xjs-Uc"
      }
    },
    {
      "cell_type": "code",
      "source": [
        "df = df.fillna(method=\"ffill\")\n",
        "df = df.fillna(method=\"bfill\")\n",
        "df.head()"
      ],
      "metadata": {
        "colab": {
          "base_uri": "https://localhost:8080/",
          "height": 302
        },
        "id": "2ecLTvC8u0Zn",
        "outputId": "a4b882c3-10ba-49fa-de54-9edbe38c147d"
      },
      "execution_count": null,
      "outputs": [
        {
          "output_type": "execute_result",
          "data": {
            "text/plain": [
              "                 AMD      GOOGL       GOOG         MO    AMZN         APA  \\\n",
              "formatted_date                                                              \n",
              "2010-01-04      9.70  15.684434  15.610239  19.790001  6.6950  105.870003   \n",
              "2010-01-05      9.71  15.615365  15.541497  19.799999  6.7345  107.120003   \n",
              "2010-01-06      9.57  15.221722  15.149715  20.090000  6.6125  108.800003   \n",
              "2010-01-07      9.47  14.867367  14.797037  20.059999  6.5000  107.150002   \n",
              "2010-01-08      9.43  15.065566  14.994298  20.110001  6.6760  106.589996   \n",
              "\n",
              "                    AAPL   AMAT       APTV        ADM        BKR        WHR  \\\n",
              "formatted_date                                                                \n",
              "2010-01-04      7.643214  14.30  17.879295  31.469999  41.240002  81.949997   \n",
              "2010-01-05      7.656429  14.19  17.879295  31.639999  43.660000  81.779999   \n",
              "2010-01-06      7.534643  14.16  17.879295  31.559999  45.840000  81.059998   \n",
              "2010-01-07      7.520714  14.01  17.879295  31.230000  46.169998  82.800003   \n",
              "2010-01-08      7.570714  14.55  17.879295  30.840000  47.099998  84.559998   \n",
              "\n",
              "                      WMB       WYNN        XEL    XYL        YUM  \n",
              "formatted_date                                                     \n",
              "2010-01-04      17.616472  63.959999  21.080000  24.25  25.226456  \n",
              "2010-01-05      17.836576  67.849998  20.830000  24.25  25.140186  \n",
              "2010-01-06      18.415367  66.959999  20.870001  24.25  24.960461  \n",
              "2010-01-07      18.284937  68.389999  20.780001  24.25  24.953272  \n",
              "2010-01-08      18.431671  67.900002  20.790001  24.25  24.960461  "
            ],
            "text/html": [
              "\n",
              "  <div id=\"df-e1880f5a-2da2-4d6d-8a5e-c1b126095ca3\">\n",
              "    <div class=\"colab-df-container\">\n",
              "      <div>\n",
              "<style scoped>\n",
              "    .dataframe tbody tr th:only-of-type {\n",
              "        vertical-align: middle;\n",
              "    }\n",
              "\n",
              "    .dataframe tbody tr th {\n",
              "        vertical-align: top;\n",
              "    }\n",
              "\n",
              "    .dataframe thead th {\n",
              "        text-align: right;\n",
              "    }\n",
              "</style>\n",
              "<table border=\"1\" class=\"dataframe\">\n",
              "  <thead>\n",
              "    <tr style=\"text-align: right;\">\n",
              "      <th></th>\n",
              "      <th>AMD</th>\n",
              "      <th>GOOGL</th>\n",
              "      <th>GOOG</th>\n",
              "      <th>MO</th>\n",
              "      <th>AMZN</th>\n",
              "      <th>APA</th>\n",
              "      <th>AAPL</th>\n",
              "      <th>AMAT</th>\n",
              "      <th>APTV</th>\n",
              "      <th>ADM</th>\n",
              "      <th>BKR</th>\n",
              "      <th>WHR</th>\n",
              "      <th>WMB</th>\n",
              "      <th>WYNN</th>\n",
              "      <th>XEL</th>\n",
              "      <th>XYL</th>\n",
              "      <th>YUM</th>\n",
              "    </tr>\n",
              "    <tr>\n",
              "      <th>formatted_date</th>\n",
              "      <th></th>\n",
              "      <th></th>\n",
              "      <th></th>\n",
              "      <th></th>\n",
              "      <th></th>\n",
              "      <th></th>\n",
              "      <th></th>\n",
              "      <th></th>\n",
              "      <th></th>\n",
              "      <th></th>\n",
              "      <th></th>\n",
              "      <th></th>\n",
              "      <th></th>\n",
              "      <th></th>\n",
              "      <th></th>\n",
              "      <th></th>\n",
              "      <th></th>\n",
              "    </tr>\n",
              "  </thead>\n",
              "  <tbody>\n",
              "    <tr>\n",
              "      <th>2010-01-04</th>\n",
              "      <td>9.70</td>\n",
              "      <td>15.684434</td>\n",
              "      <td>15.610239</td>\n",
              "      <td>19.790001</td>\n",
              "      <td>6.6950</td>\n",
              "      <td>105.870003</td>\n",
              "      <td>7.643214</td>\n",
              "      <td>14.30</td>\n",
              "      <td>17.879295</td>\n",
              "      <td>31.469999</td>\n",
              "      <td>41.240002</td>\n",
              "      <td>81.949997</td>\n",
              "      <td>17.616472</td>\n",
              "      <td>63.959999</td>\n",
              "      <td>21.080000</td>\n",
              "      <td>24.25</td>\n",
              "      <td>25.226456</td>\n",
              "    </tr>\n",
              "    <tr>\n",
              "      <th>2010-01-05</th>\n",
              "      <td>9.71</td>\n",
              "      <td>15.615365</td>\n",
              "      <td>15.541497</td>\n",
              "      <td>19.799999</td>\n",
              "      <td>6.7345</td>\n",
              "      <td>107.120003</td>\n",
              "      <td>7.656429</td>\n",
              "      <td>14.19</td>\n",
              "      <td>17.879295</td>\n",
              "      <td>31.639999</td>\n",
              "      <td>43.660000</td>\n",
              "      <td>81.779999</td>\n",
              "      <td>17.836576</td>\n",
              "      <td>67.849998</td>\n",
              "      <td>20.830000</td>\n",
              "      <td>24.25</td>\n",
              "      <td>25.140186</td>\n",
              "    </tr>\n",
              "    <tr>\n",
              "      <th>2010-01-06</th>\n",
              "      <td>9.57</td>\n",
              "      <td>15.221722</td>\n",
              "      <td>15.149715</td>\n",
              "      <td>20.090000</td>\n",
              "      <td>6.6125</td>\n",
              "      <td>108.800003</td>\n",
              "      <td>7.534643</td>\n",
              "      <td>14.16</td>\n",
              "      <td>17.879295</td>\n",
              "      <td>31.559999</td>\n",
              "      <td>45.840000</td>\n",
              "      <td>81.059998</td>\n",
              "      <td>18.415367</td>\n",
              "      <td>66.959999</td>\n",
              "      <td>20.870001</td>\n",
              "      <td>24.25</td>\n",
              "      <td>24.960461</td>\n",
              "    </tr>\n",
              "    <tr>\n",
              "      <th>2010-01-07</th>\n",
              "      <td>9.47</td>\n",
              "      <td>14.867367</td>\n",
              "      <td>14.797037</td>\n",
              "      <td>20.059999</td>\n",
              "      <td>6.5000</td>\n",
              "      <td>107.150002</td>\n",
              "      <td>7.520714</td>\n",
              "      <td>14.01</td>\n",
              "      <td>17.879295</td>\n",
              "      <td>31.230000</td>\n",
              "      <td>46.169998</td>\n",
              "      <td>82.800003</td>\n",
              "      <td>18.284937</td>\n",
              "      <td>68.389999</td>\n",
              "      <td>20.780001</td>\n",
              "      <td>24.25</td>\n",
              "      <td>24.953272</td>\n",
              "    </tr>\n",
              "    <tr>\n",
              "      <th>2010-01-08</th>\n",
              "      <td>9.43</td>\n",
              "      <td>15.065566</td>\n",
              "      <td>14.994298</td>\n",
              "      <td>20.110001</td>\n",
              "      <td>6.6760</td>\n",
              "      <td>106.589996</td>\n",
              "      <td>7.570714</td>\n",
              "      <td>14.55</td>\n",
              "      <td>17.879295</td>\n",
              "      <td>30.840000</td>\n",
              "      <td>47.099998</td>\n",
              "      <td>84.559998</td>\n",
              "      <td>18.431671</td>\n",
              "      <td>67.900002</td>\n",
              "      <td>20.790001</td>\n",
              "      <td>24.25</td>\n",
              "      <td>24.960461</td>\n",
              "    </tr>\n",
              "  </tbody>\n",
              "</table>\n",
              "</div>\n",
              "      <button class=\"colab-df-convert\" onclick=\"convertToInteractive('df-e1880f5a-2da2-4d6d-8a5e-c1b126095ca3')\"\n",
              "              title=\"Convert this dataframe to an interactive table.\"\n",
              "              style=\"display:none;\">\n",
              "        \n",
              "  <svg xmlns=\"http://www.w3.org/2000/svg\" height=\"24px\"viewBox=\"0 0 24 24\"\n",
              "       width=\"24px\">\n",
              "    <path d=\"M0 0h24v24H0V0z\" fill=\"none\"/>\n",
              "    <path d=\"M18.56 5.44l.94 2.06.94-2.06 2.06-.94-2.06-.94-.94-2.06-.94 2.06-2.06.94zm-11 1L8.5 8.5l.94-2.06 2.06-.94-2.06-.94L8.5 2.5l-.94 2.06-2.06.94zm10 10l.94 2.06.94-2.06 2.06-.94-2.06-.94-.94-2.06-.94 2.06-2.06.94z\"/><path d=\"M17.41 7.96l-1.37-1.37c-.4-.4-.92-.59-1.43-.59-.52 0-1.04.2-1.43.59L10.3 9.45l-7.72 7.72c-.78.78-.78 2.05 0 2.83L4 21.41c.39.39.9.59 1.41.59.51 0 1.02-.2 1.41-.59l7.78-7.78 2.81-2.81c.8-.78.8-2.07 0-2.86zM5.41 20L4 18.59l7.72-7.72 1.47 1.35L5.41 20z\"/>\n",
              "  </svg>\n",
              "      </button>\n",
              "      \n",
              "  <style>\n",
              "    .colab-df-container {\n",
              "      display:flex;\n",
              "      flex-wrap:wrap;\n",
              "      gap: 12px;\n",
              "    }\n",
              "\n",
              "    .colab-df-convert {\n",
              "      background-color: #E8F0FE;\n",
              "      border: none;\n",
              "      border-radius: 50%;\n",
              "      cursor: pointer;\n",
              "      display: none;\n",
              "      fill: #1967D2;\n",
              "      height: 32px;\n",
              "      padding: 0 0 0 0;\n",
              "      width: 32px;\n",
              "    }\n",
              "\n",
              "    .colab-df-convert:hover {\n",
              "      background-color: #E2EBFA;\n",
              "      box-shadow: 0px 1px 2px rgba(60, 64, 67, 0.3), 0px 1px 3px 1px rgba(60, 64, 67, 0.15);\n",
              "      fill: #174EA6;\n",
              "    }\n",
              "\n",
              "    [theme=dark] .colab-df-convert {\n",
              "      background-color: #3B4455;\n",
              "      fill: #D2E3FC;\n",
              "    }\n",
              "\n",
              "    [theme=dark] .colab-df-convert:hover {\n",
              "      background-color: #434B5C;\n",
              "      box-shadow: 0px 1px 3px 1px rgba(0, 0, 0, 0.15);\n",
              "      filter: drop-shadow(0px 1px 2px rgba(0, 0, 0, 0.3));\n",
              "      fill: #FFFFFF;\n",
              "    }\n",
              "  </style>\n",
              "\n",
              "      <script>\n",
              "        const buttonEl =\n",
              "          document.querySelector('#df-e1880f5a-2da2-4d6d-8a5e-c1b126095ca3 button.colab-df-convert');\n",
              "        buttonEl.style.display =\n",
              "          google.colab.kernel.accessAllowed ? 'block' : 'none';\n",
              "\n",
              "        async function convertToInteractive(key) {\n",
              "          const element = document.querySelector('#df-e1880f5a-2da2-4d6d-8a5e-c1b126095ca3');\n",
              "          const dataTable =\n",
              "            await google.colab.kernel.invokeFunction('convertToInteractive',\n",
              "                                                     [key], {});\n",
              "          if (!dataTable) return;\n",
              "\n",
              "          const docLinkHtml = 'Like what you see? Visit the ' +\n",
              "            '<a target=\"_blank\" href=https://colab.research.google.com/notebooks/data_table.ipynb>data table notebook</a>'\n",
              "            + ' to learn more about interactive tables.';\n",
              "          element.innerHTML = '';\n",
              "          dataTable['output_type'] = 'display_data';\n",
              "          await google.colab.output.renderOutput(dataTable, element);\n",
              "          const docLink = document.createElement('div');\n",
              "          docLink.innerHTML = docLinkHtml;\n",
              "          element.appendChild(docLink);\n",
              "        }\n",
              "      </script>\n",
              "    </div>\n",
              "  </div>\n",
              "  "
            ]
          },
          "metadata": {},
          "execution_count": 15
        }
      ]
    },
    {
      "cell_type": "code",
      "source": [
        "print(\"Is there any NaN values -------->\", df.isna().any().any())"
      ],
      "metadata": {
        "colab": {
          "base_uri": "https://localhost:8080/"
        },
        "id": "JZkT3mH4u6W1",
        "outputId": "cc2d76c7-daef-422a-f81e-1f14a5c67214"
      },
      "execution_count": null,
      "outputs": [
        {
          "output_type": "stream",
          "name": "stdout",
          "text": [
            "Is there any NaN values --------> False\n"
          ]
        }
      ]
    },
    {
      "cell_type": "code",
      "source": [
        "df.describe().transpose()"
      ],
      "metadata": {
        "colab": {
          "base_uri": "https://localhost:8080/",
          "height": 583
        },
        "id": "PCU0kWsnu_Xr",
        "outputId": "332dd349-14fc-44dd-d512-915fc59f5f37"
      },
      "execution_count": null,
      "outputs": [
        {
          "output_type": "execute_result",
          "data": {
            "text/plain": [
              "        count        mean        std        min         25%         50%  \\\n",
              "AMD    3272.0   27.089352  35.297289   1.620000    4.010000    8.690000   \n",
              "GOOGL  3272.0   49.160898  35.804094  10.912663   20.295858   38.563002   \n",
              "GOOG   3272.0   48.989126  36.174894  10.861040   20.199849   37.592999   \n",
              "MO     3272.0   45.497479  14.150316  19.370001   34.817500   45.560001   \n",
              "AMZN   3272.0   58.912957  54.078546   5.430500   13.327125   36.393749   \n",
              "APA    3272.0   59.122992  31.383639   4.020000   34.592501   50.950001   \n",
              "AAPL   3272.0   51.321186  47.357062   6.858929   18.967589   29.815000   \n",
              "AMAT   3272.0   42.914138  37.802611   9.850000   15.100000   25.280000   \n",
              "APTV   3272.0   67.225285  37.952889  16.454317   36.259429   63.738476   \n",
              "ADM    3272.0   44.327081  14.901381  24.160000   33.820002   42.430000   \n",
              "BKR    3272.0   41.833261  16.327276   9.330000   26.115001   43.485001   \n",
              "WHR    3272.0  142.689429  45.770286  45.369999  107.667498  147.820007   \n",
              "WMB    3272.0   29.716893   9.718518   9.250000   23.235000   28.440001   \n",
              "WYNN   3272.0  118.286950  38.062737  43.020000   90.470003  114.060001   \n",
              "XEL    3272.0   43.457466  16.768842  20.040001   28.200001   40.695000   \n",
              "XYL    3272.0   55.157922  29.810968  23.000000   27.500000   46.164999   \n",
              "YUM    3272.0   71.608120  29.408841  23.522646   49.795112   63.267433   \n",
              "\n",
              "              75%         max  \n",
              "AMD     32.887499  161.910004  \n",
              "GOOGL   61.738001  149.838501  \n",
              "GOOG    61.511748  150.709000  \n",
              "MO      55.630001   77.709999  \n",
              "AMZN    93.131001  186.570496  \n",
              "APA     86.145000  133.369995  \n",
              "AAPL    56.777499  182.009995  \n",
              "AMAT    55.202500  167.000000  \n",
              "APTV    87.419998  178.119995  \n",
              "ADM     47.900002   98.220001  \n",
              "BKR     54.350000   79.940002  \n",
              "WHR    176.222496  252.949997  \n",
              "WMB     33.790001   60.860001  \n",
              "WYNN   138.337505  247.949997  \n",
              "XEL     60.882501   77.410004  \n",
              "XYL     77.155001  138.029999  \n",
              "YUM     95.395000  138.860001  "
            ],
            "text/html": [
              "\n",
              "  <div id=\"df-eaf27904-177b-4cfe-8205-7e72d84f4850\">\n",
              "    <div class=\"colab-df-container\">\n",
              "      <div>\n",
              "<style scoped>\n",
              "    .dataframe tbody tr th:only-of-type {\n",
              "        vertical-align: middle;\n",
              "    }\n",
              "\n",
              "    .dataframe tbody tr th {\n",
              "        vertical-align: top;\n",
              "    }\n",
              "\n",
              "    .dataframe thead th {\n",
              "        text-align: right;\n",
              "    }\n",
              "</style>\n",
              "<table border=\"1\" class=\"dataframe\">\n",
              "  <thead>\n",
              "    <tr style=\"text-align: right;\">\n",
              "      <th></th>\n",
              "      <th>count</th>\n",
              "      <th>mean</th>\n",
              "      <th>std</th>\n",
              "      <th>min</th>\n",
              "      <th>25%</th>\n",
              "      <th>50%</th>\n",
              "      <th>75%</th>\n",
              "      <th>max</th>\n",
              "    </tr>\n",
              "  </thead>\n",
              "  <tbody>\n",
              "    <tr>\n",
              "      <th>AMD</th>\n",
              "      <td>3272.0</td>\n",
              "      <td>27.089352</td>\n",
              "      <td>35.297289</td>\n",
              "      <td>1.620000</td>\n",
              "      <td>4.010000</td>\n",
              "      <td>8.690000</td>\n",
              "      <td>32.887499</td>\n",
              "      <td>161.910004</td>\n",
              "    </tr>\n",
              "    <tr>\n",
              "      <th>GOOGL</th>\n",
              "      <td>3272.0</td>\n",
              "      <td>49.160898</td>\n",
              "      <td>35.804094</td>\n",
              "      <td>10.912663</td>\n",
              "      <td>20.295858</td>\n",
              "      <td>38.563002</td>\n",
              "      <td>61.738001</td>\n",
              "      <td>149.838501</td>\n",
              "    </tr>\n",
              "    <tr>\n",
              "      <th>GOOG</th>\n",
              "      <td>3272.0</td>\n",
              "      <td>48.989126</td>\n",
              "      <td>36.174894</td>\n",
              "      <td>10.861040</td>\n",
              "      <td>20.199849</td>\n",
              "      <td>37.592999</td>\n",
              "      <td>61.511748</td>\n",
              "      <td>150.709000</td>\n",
              "    </tr>\n",
              "    <tr>\n",
              "      <th>MO</th>\n",
              "      <td>3272.0</td>\n",
              "      <td>45.497479</td>\n",
              "      <td>14.150316</td>\n",
              "      <td>19.370001</td>\n",
              "      <td>34.817500</td>\n",
              "      <td>45.560001</td>\n",
              "      <td>55.630001</td>\n",
              "      <td>77.709999</td>\n",
              "    </tr>\n",
              "    <tr>\n",
              "      <th>AMZN</th>\n",
              "      <td>3272.0</td>\n",
              "      <td>58.912957</td>\n",
              "      <td>54.078546</td>\n",
              "      <td>5.430500</td>\n",
              "      <td>13.327125</td>\n",
              "      <td>36.393749</td>\n",
              "      <td>93.131001</td>\n",
              "      <td>186.570496</td>\n",
              "    </tr>\n",
              "    <tr>\n",
              "      <th>APA</th>\n",
              "      <td>3272.0</td>\n",
              "      <td>59.122992</td>\n",
              "      <td>31.383639</td>\n",
              "      <td>4.020000</td>\n",
              "      <td>34.592501</td>\n",
              "      <td>50.950001</td>\n",
              "      <td>86.145000</td>\n",
              "      <td>133.369995</td>\n",
              "    </tr>\n",
              "    <tr>\n",
              "      <th>AAPL</th>\n",
              "      <td>3272.0</td>\n",
              "      <td>51.321186</td>\n",
              "      <td>47.357062</td>\n",
              "      <td>6.858929</td>\n",
              "      <td>18.967589</td>\n",
              "      <td>29.815000</td>\n",
              "      <td>56.777499</td>\n",
              "      <td>182.009995</td>\n",
              "    </tr>\n",
              "    <tr>\n",
              "      <th>AMAT</th>\n",
              "      <td>3272.0</td>\n",
              "      <td>42.914138</td>\n",
              "      <td>37.802611</td>\n",
              "      <td>9.850000</td>\n",
              "      <td>15.100000</td>\n",
              "      <td>25.280000</td>\n",
              "      <td>55.202500</td>\n",
              "      <td>167.000000</td>\n",
              "    </tr>\n",
              "    <tr>\n",
              "      <th>APTV</th>\n",
              "      <td>3272.0</td>\n",
              "      <td>67.225285</td>\n",
              "      <td>37.952889</td>\n",
              "      <td>16.454317</td>\n",
              "      <td>36.259429</td>\n",
              "      <td>63.738476</td>\n",
              "      <td>87.419998</td>\n",
              "      <td>178.119995</td>\n",
              "    </tr>\n",
              "    <tr>\n",
              "      <th>ADM</th>\n",
              "      <td>3272.0</td>\n",
              "      <td>44.327081</td>\n",
              "      <td>14.901381</td>\n",
              "      <td>24.160000</td>\n",
              "      <td>33.820002</td>\n",
              "      <td>42.430000</td>\n",
              "      <td>47.900002</td>\n",
              "      <td>98.220001</td>\n",
              "    </tr>\n",
              "    <tr>\n",
              "      <th>BKR</th>\n",
              "      <td>3272.0</td>\n",
              "      <td>41.833261</td>\n",
              "      <td>16.327276</td>\n",
              "      <td>9.330000</td>\n",
              "      <td>26.115001</td>\n",
              "      <td>43.485001</td>\n",
              "      <td>54.350000</td>\n",
              "      <td>79.940002</td>\n",
              "    </tr>\n",
              "    <tr>\n",
              "      <th>WHR</th>\n",
              "      <td>3272.0</td>\n",
              "      <td>142.689429</td>\n",
              "      <td>45.770286</td>\n",
              "      <td>45.369999</td>\n",
              "      <td>107.667498</td>\n",
              "      <td>147.820007</td>\n",
              "      <td>176.222496</td>\n",
              "      <td>252.949997</td>\n",
              "    </tr>\n",
              "    <tr>\n",
              "      <th>WMB</th>\n",
              "      <td>3272.0</td>\n",
              "      <td>29.716893</td>\n",
              "      <td>9.718518</td>\n",
              "      <td>9.250000</td>\n",
              "      <td>23.235000</td>\n",
              "      <td>28.440001</td>\n",
              "      <td>33.790001</td>\n",
              "      <td>60.860001</td>\n",
              "    </tr>\n",
              "    <tr>\n",
              "      <th>WYNN</th>\n",
              "      <td>3272.0</td>\n",
              "      <td>118.286950</td>\n",
              "      <td>38.062737</td>\n",
              "      <td>43.020000</td>\n",
              "      <td>90.470003</td>\n",
              "      <td>114.060001</td>\n",
              "      <td>138.337505</td>\n",
              "      <td>247.949997</td>\n",
              "    </tr>\n",
              "    <tr>\n",
              "      <th>XEL</th>\n",
              "      <td>3272.0</td>\n",
              "      <td>43.457466</td>\n",
              "      <td>16.768842</td>\n",
              "      <td>20.040001</td>\n",
              "      <td>28.200001</td>\n",
              "      <td>40.695000</td>\n",
              "      <td>60.882501</td>\n",
              "      <td>77.410004</td>\n",
              "    </tr>\n",
              "    <tr>\n",
              "      <th>XYL</th>\n",
              "      <td>3272.0</td>\n",
              "      <td>55.157922</td>\n",
              "      <td>29.810968</td>\n",
              "      <td>23.000000</td>\n",
              "      <td>27.500000</td>\n",
              "      <td>46.164999</td>\n",
              "      <td>77.155001</td>\n",
              "      <td>138.029999</td>\n",
              "    </tr>\n",
              "    <tr>\n",
              "      <th>YUM</th>\n",
              "      <td>3272.0</td>\n",
              "      <td>71.608120</td>\n",
              "      <td>29.408841</td>\n",
              "      <td>23.522646</td>\n",
              "      <td>49.795112</td>\n",
              "      <td>63.267433</td>\n",
              "      <td>95.395000</td>\n",
              "      <td>138.860001</td>\n",
              "    </tr>\n",
              "  </tbody>\n",
              "</table>\n",
              "</div>\n",
              "      <button class=\"colab-df-convert\" onclick=\"convertToInteractive('df-eaf27904-177b-4cfe-8205-7e72d84f4850')\"\n",
              "              title=\"Convert this dataframe to an interactive table.\"\n",
              "              style=\"display:none;\">\n",
              "        \n",
              "  <svg xmlns=\"http://www.w3.org/2000/svg\" height=\"24px\"viewBox=\"0 0 24 24\"\n",
              "       width=\"24px\">\n",
              "    <path d=\"M0 0h24v24H0V0z\" fill=\"none\"/>\n",
              "    <path d=\"M18.56 5.44l.94 2.06.94-2.06 2.06-.94-2.06-.94-.94-2.06-.94 2.06-2.06.94zm-11 1L8.5 8.5l.94-2.06 2.06-.94-2.06-.94L8.5 2.5l-.94 2.06-2.06.94zm10 10l.94 2.06.94-2.06 2.06-.94-2.06-.94-.94-2.06-.94 2.06-2.06.94z\"/><path d=\"M17.41 7.96l-1.37-1.37c-.4-.4-.92-.59-1.43-.59-.52 0-1.04.2-1.43.59L10.3 9.45l-7.72 7.72c-.78.78-.78 2.05 0 2.83L4 21.41c.39.39.9.59 1.41.59.51 0 1.02-.2 1.41-.59l7.78-7.78 2.81-2.81c.8-.78.8-2.07 0-2.86zM5.41 20L4 18.59l7.72-7.72 1.47 1.35L5.41 20z\"/>\n",
              "  </svg>\n",
              "      </button>\n",
              "      \n",
              "  <style>\n",
              "    .colab-df-container {\n",
              "      display:flex;\n",
              "      flex-wrap:wrap;\n",
              "      gap: 12px;\n",
              "    }\n",
              "\n",
              "    .colab-df-convert {\n",
              "      background-color: #E8F0FE;\n",
              "      border: none;\n",
              "      border-radius: 50%;\n",
              "      cursor: pointer;\n",
              "      display: none;\n",
              "      fill: #1967D2;\n",
              "      height: 32px;\n",
              "      padding: 0 0 0 0;\n",
              "      width: 32px;\n",
              "    }\n",
              "\n",
              "    .colab-df-convert:hover {\n",
              "      background-color: #E2EBFA;\n",
              "      box-shadow: 0px 1px 2px rgba(60, 64, 67, 0.3), 0px 1px 3px 1px rgba(60, 64, 67, 0.15);\n",
              "      fill: #174EA6;\n",
              "    }\n",
              "\n",
              "    [theme=dark] .colab-df-convert {\n",
              "      background-color: #3B4455;\n",
              "      fill: #D2E3FC;\n",
              "    }\n",
              "\n",
              "    [theme=dark] .colab-df-convert:hover {\n",
              "      background-color: #434B5C;\n",
              "      box-shadow: 0px 1px 3px 1px rgba(0, 0, 0, 0.15);\n",
              "      filter: drop-shadow(0px 1px 2px rgba(0, 0, 0, 0.3));\n",
              "      fill: #FFFFFF;\n",
              "    }\n",
              "  </style>\n",
              "\n",
              "      <script>\n",
              "        const buttonEl =\n",
              "          document.querySelector('#df-eaf27904-177b-4cfe-8205-7e72d84f4850 button.colab-df-convert');\n",
              "        buttonEl.style.display =\n",
              "          google.colab.kernel.accessAllowed ? 'block' : 'none';\n",
              "\n",
              "        async function convertToInteractive(key) {\n",
              "          const element = document.querySelector('#df-eaf27904-177b-4cfe-8205-7e72d84f4850');\n",
              "          const dataTable =\n",
              "            await google.colab.kernel.invokeFunction('convertToInteractive',\n",
              "                                                     [key], {});\n",
              "          if (!dataTable) return;\n",
              "\n",
              "          const docLinkHtml = 'Like what you see? Visit the ' +\n",
              "            '<a target=\"_blank\" href=https://colab.research.google.com/notebooks/data_table.ipynb>data table notebook</a>'\n",
              "            + ' to learn more about interactive tables.';\n",
              "          element.innerHTML = '';\n",
              "          dataTable['output_type'] = 'display_data';\n",
              "          await google.colab.output.renderOutput(dataTable, element);\n",
              "          const docLink = document.createElement('div');\n",
              "          docLink.innerHTML = docLinkHtml;\n",
              "          element.appendChild(docLink);\n",
              "        }\n",
              "      </script>\n",
              "    </div>\n",
              "  </div>\n",
              "  "
            ]
          },
          "metadata": {},
          "execution_count": 17
        }
      ]
    },
    {
      "cell_type": "markdown",
      "source": [
        "#  Visualise the data & Analysis"
      ],
      "metadata": {
        "id": "w1aIO1YjtDH4"
      }
    },
    {
      "cell_type": "code",
      "source": [
        "df.plot(y=used_stock_list,figsize=(14,8))\n",
        "plt.title(\"the used  stocks \")"
      ],
      "metadata": {
        "colab": {
          "base_uri": "https://localhost:8080/",
          "height": 500
        },
        "id": "7B7J56YavGMB",
        "outputId": "f597f87e-9abe-4c3f-83a0-bebfa90f6a88"
      },
      "execution_count": null,
      "outputs": [
        {
          "output_type": "execute_result",
          "data": {
            "text/plain": [
              "Text(0.5, 1.0, 'the used  stocks ')"
            ]
          },
          "metadata": {},
          "execution_count": 18
        },
        {
          "output_type": "display_data",
          "data": {
            "text/plain": [
              "<Figure size 1008x576 with 1 Axes>"
            ],
            "image/png": "[encoded data removed]"
          },
          "metadata": {
            "needs_background": "light"
          }
        }
      ]
    },
    {
      "cell_type": "markdown",
      "source": [
        "# Find pairs of stocks that are cointegrated\n",
        "\n",
        "**Identify two stocks that are highly correlated and likely to be cointegrated.**\n",
        "\n",
        "**This can be done using statistical techniques such as the `Engle-Granger` test or the `Johansen` test.**\n",
        "* For example, we  can  the `coint` function from the `statsmodels` library to perform the Engle-Granger test:\n"
      ],
      "metadata": {
        "id": "JNv2Z3JmtGKb"
      }
    },
    {
      "cell_type": "code",
      "source": [
        "# Find pairs of stocks that are cointegrated\n",
        "pairs = []\n",
        "for i in range(len(df.columns)):\n",
        "    for j in range(i+1, len(df.columns)):\n",
        "        result = coint(df[df.columns[i]], df[df.columns[j]])\n",
        "        if result[1] < 0.05:  # p-value is less than 0.05, so the stocks are cointegrated\n",
        "            pairs.append((df.columns[i], df.columns[j]))\n",
        "            "
      ],
      "metadata": {
        "id": "njak6O3gwW-R"
      },
      "execution_count": null,
      "outputs": []
    },
    {
      "cell_type": "code",
      "source": [
        "print(f\"There are {len(pairs)} cointegrated pairs\")"
      ],
      "metadata": {
        "colab": {
          "base_uri": "https://localhost:8080/"
        },
        "id": "u6WnHANSwfj7",
        "outputId": "bbf173d8-2db1-45b6-a945-0511ba7591e3"
      },
      "execution_count": null,
      "outputs": [
        {
          "output_type": "stream",
          "name": "stdout",
          "text": [
            "There are 6 cointegrated pairs\n"
          ]
        }
      ]
    },
    {
      "cell_type": "markdown",
      "source": [
        "# Select one of the cointegrated pairs"
      ],
      "metadata": {
        "id": "o_UU_nIftLbd"
      }
    },
    {
      "cell_type": "code",
      "source": [
        "print(f\"example_of_a_candidate_pair {pairs[0]}\")"
      ],
      "metadata": {
        "colab": {
          "base_uri": "https://localhost:8080/"
        },
        "id": "mC2WGCjvwmjz",
        "outputId": "cd041692-1c27-4fbf-9426-3400126d3401"
      },
      "execution_count": null,
      "outputs": [
        {
          "output_type": "stream",
          "name": "stdout",
          "text": [
            "example_of_a_candidate_pair ('AMD', 'AMAT')\n"
          ]
        }
      ]
    },
    {
      "cell_type": "code",
      "source": [
        "# we select for exemple the first cointegrated pairs\n",
        "stock_1_price = pairs[0][0]\n",
        "stock_2_price = pairs[0][1]"
      ],
      "metadata": {
        "id": "h3puyA7PwxSb"
      },
      "execution_count": null,
      "outputs": []
    },
    {
      "cell_type": "code",
      "source": [
        "import statsmodels.tsa.stattools as ts\n",
        "\n",
        "def test_for_cointegration(x, y):\n",
        "    # Calculate the residuals of the regression\n",
        "    resids = y - x\n",
        "\n",
        "    # Perform the Augmented Dickey-Fuller test\n",
        "    adf_test = ts.adfuller(resids)\n",
        "\n",
        "    # Extract the p-value from the test result\n",
        "    p_value = adf_test[1]\n",
        "\n",
        "    # Test the null hypothesis that the residuals are non-stationary\n",
        "    if p_value < 0.05:\n",
        "        return True\n",
        "    else:\n",
        "        return False"
      ],
      "metadata": {
        "id": "m7FXe_X1wyri"
      },
      "execution_count": null,
      "outputs": []
    },
    {
      "cell_type": "markdown",
      "source": [
        "#Using the Augmented Dickey-Fuller test to test for cointegration\n"
      ],
      "metadata": {
        "id": "p_yVcjcJtqHC"
      }
    },
    {
      "cell_type": "code",
      "source": [
        "import pandas as pd\n",
        "import statsmodels.tsa.stattools as ts\n",
        "import yahoofinancials\n",
        "\n",
        "def test_for_cointegration(x, y):\n",
        "    # Calculate the residuals of the regression\n",
        "    resids = y - x\n",
        "\n",
        "    # Perform the Augmented Dickey-Fuller test\n",
        "    adf_test = ts.adfuller(resids)\n",
        "\n",
        "    # Extract the p-value from the test result\n",
        "    p_value = adf_test[1]\n",
        "\n",
        "    # Test the null hypothesis that the residuals are non-stationary\n",
        "    if p_value < 0.05:\n",
        "        return True\n",
        "    else:\n",
        "        return False\n",
        "\n",
        "# Retrieve the stock data\n",
        "yahoo_financials = yahoofinancials.YahooFinancials('AMD')\n",
        "amd = yahoo_financials.get_historical_price_data('2010-01-01', '2023-01-01', 'daily')\n",
        "\n",
        "yahoo_financials = yahoofinancials.YahooFinancials('AMAT')\n",
        "amat = yahoo_financials.get_historical_price_data('2010-01-01', '2023-01-01', 'daily')\n",
        "\n",
        "# Convert the data to a Pandas DataFrame\n",
        "amd = pd.DataFrame(amd['AMD']['prices'])\n",
        "amat = pd.DataFrame(amat['AMAT']['prices'])\n",
        "\n",
        "# Test for cointegration\n",
        "cointegrated = test_for_cointegration(amd['adjclose'], amat['adjclose'])\n",
        "\n",
        "if cointegrated:\n",
        "    print('Cointegration detected')\n",
        "else:\n",
        "    print('No cointegration detected')\n"
      ],
      "metadata": {
        "colab": {
          "base_uri": "https://localhost:8080/"
        },
        "id": "QUi_ca5ixUWi",
        "outputId": "b6967448-469b-4226-c3a5-2de0e914542e"
      },
      "execution_count": null,
      "outputs": [
        {
          "output_type": "stream",
          "name": "stdout",
          "text": [
            "Cointegration detected\n"
          ]
        }
      ]
    },
    {
      "cell_type": "markdown",
      "source": [
        "#Using the Kwiatkowski-Phillips-Schmidt-Shin test to test for cointegration"
      ],
      "metadata": {
        "id": "sJPtwGbTtzNd"
      }
    },
    {
      "cell_type": "code",
      "source": [
        "import pandas as pd\n",
        "import statsmodels.tsa.stattools as ts\n",
        "import yahoofinancials\n",
        "\n",
        "# Retrieve the stock data\n",
        "yahoo_financials = yahoofinancials.YahooFinancials('AMD')\n",
        "amd = yahoo_financials.get_historical_price_data('2019-01-01', '2020-01-01', 'daily')\n",
        "\n",
        "yahoo_financials = yahoofinancials.YahooFinancials('AMAT')\n",
        "amat = yahoo_financials.get_historical_price_data('2019-01-01', '2020-01-01', 'daily')\n",
        "\n",
        "# Convert the data to a Pandas DataFrame\n",
        "amd = pd.DataFrame(amd['AMD']['prices'])\n",
        "amat = pd.DataFrame(amat['AMAT']['prices'])\n",
        "\n",
        "# Calculate the residuals of the regression\n",
        "resids = amat['adjclose'] - amd['adjclose']\n",
        "\n",
        "# Perform the Kwiatkowski-Phillips-Schmidt-Shin test\n",
        "kpss_test = ts.kpss(resids)\n",
        "\n",
        "# Extract the p-value from the test result\n",
        "p_value = kpss_test[1]\n",
        "\n",
        "# Test the null hypothesis that the residuals are stationary\n",
        "if p_value < 0.05:\n",
        "    print('Cointegration detected')\n",
        "else:\n",
        "    print('No cointegration detected')\n"
      ],
      "metadata": {
        "colab": {
          "base_uri": "https://localhost:8080/"
        },
        "id": "buTDmNW50bQp",
        "outputId": "c34f9998-a9e0-4aa8-f8fe-56d13d42c080"
      },
      "execution_count": null,
      "outputs": [
        {
          "output_type": "stream",
          "name": "stdout",
          "text": [
            "Cointegration detected\n"
          ]
        },
        {
          "output_type": "stream",
          "name": "stderr",
          "text": [
            "/usr/local/lib/python3.8/dist-packages/statsmodels/tsa/stattools.py:1875: FutureWarning: The behavior of using nlags=None will change in release 0.13.Currently nlags=None is the same as nlags=\"legacy\", and so a sample-size lag length is used. After the next release, the default will change to be the same as nlags=\"auto\" which uses an automatic lag length selection method. To silence this warning, either use \"auto\" or \"legacy\"\n",
            "  warnings.warn(msg, FutureWarning)\n"
          ]
        }
      ]
    },
    {
      "cell_type": "code",
      "source": [
        "# Select one of the cointegrated pairs\n",
        "X = df[[stock_1_price,stock_2_price]].values\n",
        "# Calculate the spread between the two stocks.\n",
        "y = df[stock_1_price] - df[stock_2_price]"
      ],
      "metadata": {
        "id": "eHgTGY_XEoQu"
      },
      "execution_count": null,
      "outputs": []
    },
    {
      "cell_type": "code",
      "source": [
        "plt.plot(y.index,y,label=\"spread\")\n",
        "plt.title(f\"spread between the two stocks {(stock_1_price,stock_2_price)}\")\n",
        "plt.ylabel(\"Spread\")\n",
        "plt.xlabel(\"Date\")\n",
        "plt.legend()"
      ],
      "metadata": {
        "colab": {
          "base_uri": "https://localhost:8080/",
          "height": 313
        },
        "id": "D-G-9i-oE_YT",
        "outputId": "7c3985e6-ecb6-471a-fa9e-bede1b46701f"
      },
      "execution_count": null,
      "outputs": [
        {
          "output_type": "execute_result",
          "data": {
            "text/plain": [
              "<matplotlib.legend.Legend at 0x7f46692fd700>"
            ]
          },
          "metadata": {},
          "execution_count": 27
        },
        {
          "output_type": "display_data",
          "data": {
            "text/plain": [
              "<Figure size 432x288 with 1 Axes>"
            ],
            "image/png": "[encoded data removed]"
          },
          "metadata": {
            "needs_background": "light"
          }
        }
      ]
    },
    {
      "cell_type": "markdown",
      "source": [
        "#  Data Normalization\n",
        " \n",
        "**What is Data Normalizatin?**\n",
        "* Data normalization is the process of scaling the data so that it has a mean of zero and a standard deviation of one. This is often done to improve the performance of machine learning algorithms, as many algorithms assume that the data is normally distributed, or at least that the features have the same scale.\n",
        "\n",
        "**As we observe in data, the stocks are not in the same scale, and that's will impact negativly the performance of ML model so  we need to bring them to the same scale for future analysis.**\n",
        "\n",
        "* We will use `Min-Max Normalization`: This method scales the data between a minimum and maximum value, typically between 0 and 1.\n",
        "\n",
        "* By normalizing the data, you can ensure that all of the features are on the same scale, which can help to improve the performance of many machine learning algorithms.\n"
      ],
      "metadata": {
        "id": "x4fl_EVft4iv"
      }
    },
    {
      "cell_type": "code",
      "source": [
        "# Normalize the data using min-max scaling\n",
        "from sklearn.preprocessing import  MinMaxScaler\n",
        "Min_max_sc_x = MinMaxScaler()\n",
        "Min_max_sc_y = MinMaxScaler()\n",
        "X_scaled = Min_max_sc_x.fit_transform(X)\n",
        "y_scaled = Min_max_sc_y.fit_transform(y.values.reshape(-1,1))\n"
      ],
      "metadata": {
        "id": "OFrYUb-BFDyg"
      },
      "execution_count": null,
      "outputs": []
    },
    {
      "cell_type": "markdown",
      "source": [
        "#   Split the data into training and test sets\n",
        "\n",
        "It is common practice in machine learning to split the available data into a training set and a test set. The training set is used to train the model, while the test set is used to evaluate the performance of the model on unseen data.\n",
        "\n",
        "There are a few reasons why this is done:\n",
        "\n",
        "* **To prevent overfitting**: Overfitting occurs when a model is trained too well on the training data and performs poorly on new, unseen data. By evaluating the model on the test set, you can get a better idea of how the model will perform on unseen data.\n",
        "\n",
        "* **To get a more accurate estimate of model performance**: When you train a model on the entire dataset and evaluate it on the same data, it is difficult to get an accurate estimate of model performance. By evaluating the model on a separate test set, you can get a more accurate estimate of how the model will perform in the real world.\n",
        "\n",
        "* **To compare multiple models**: Splitting the data into a training set and a test set allows you to compare the performance of different models on the same data. This can be useful when you are trying to choose the best model for your problem."
      ],
      "metadata": {
        "id": "USLfAfe3t82H"
      }
    },
    {
      "cell_type": "code",
      "source": [
        "y_scaled = y_scaled.reshape(-1)\n",
        "X_train, X_test, y_train, y_test = train_test_split(X_scaled, y_scaled, test_size=0.3, random_state=42)"
      ],
      "metadata": {
        "id": "SjCs1w6yFF9C"
      },
      "execution_count": null,
      "outputs": []
    },
    {
      "cell_type": "markdown",
      "source": [
        "# Training\n",
        "**Why using ML models in paire trading?**\n",
        "\n",
        ">The machine learning model is trained on historical data for the pairs of stocks and is used to make predictions about the future values of the `spread`. \n",
        "These predictions can then be used to determine when to buy or sell the pairs of stocks based on the entry and exit rules defined for the strategy.\n",
        "\n",
        ">By using a machine learning model to predict the spread, the goal is to improve the performance of the trading strategy by making more accurate predictions and identifying profitable trading opportunities more efficiently.\n",
        "\n",
        "\n",
        "**Why Training Three models?**\n",
        "> We use three models (linear regression, random forest regressor, and multilayer perceptron) here to compare their performance based on the test data and the  mean squared error (MSE) metric. The model that gives the best performance will be used for the pairs trading strategy."
      ],
      "metadata": {
        "id": "b4hnsOoJuApK"
      }
    },
    {
      "cell_type": "markdown",
      "source": [
        "### LinearRegression\n",
        "**Infos about LR**\n",
        "> * Linear regression is a machine learning algorithm used for modeling the linear relationship between a dependent variable and one or more independent variables. It is one of the simplest and most widely used algorithms in data analysis and predictive modeling.\n",
        "> * Linear regression works by fitting a linear equation to the data, where the dependent variable is predicted as a weighted sum of the independent variables, plus an intercept term. The weights and intercept are learned from the data and are used to make predictions about the dependent variable.\n",
        "> * Linear regression is used in a wide range of applications, including predicting stock prices, demand for a product, or the likelihood of a customer churning. It is especially useful when the relationship between the dependent and independent variables is expected to be linear, or when the goal is to predict a continuous variable rather than a categorical one."
      ],
      "metadata": {
        "id": "_dtcimSBuHBs"
      }
    },
    {
      "cell_type": "code",
      "source": [
        "# Create and train a linear regression model\n",
        "lr = LinearRegression()\n",
        "lr.fit(X_train, y_train)\n"
      ],
      "metadata": {
        "colab": {
          "base_uri": "https://localhost:8080/"
        },
        "id": "6sHzbUv9FOyt",
        "outputId": "90651e61-8992-41c3-ace4-f5f2c75904a6"
      },
      "execution_count": null,
      "outputs": [
        {
          "output_type": "execute_result",
          "data": {
            "text/plain": [
              "LinearRegression()"
            ]
          },
          "metadata": {},
          "execution_count": 30
        }
      ]
    },
    {
      "cell_type": "markdown",
      "source": [
        "###  RandomForestRegressor\n",
        "\n",
        "**Infos about RF**\n",
        ">  Random forest is an ensemble machine learning algorithm that is used for both classification and regression tasks. It is a type of decision tree algorithm that creates a set of decision trees from a randomly selected subset of the training data, and then combines the predictions of these trees to make a final prediction.\n",
        "\n",
        "> In the case of a random forest regressor, the goal is to predict a continuous variable rather than a categorical one. The algorithm works by training multiple decision trees on different subsets of the training data and then averaging the predictions of these trees to make a final prediction.\n",
        "\n",
        "> Random forest is a powerful algorithm that is often used for feature selection and to improve the performance of other machine learning models. It is particularly useful when there is a large number of features in the data and when the relationship between the features and the target variable is complex and non-linear."
      ],
      "metadata": {
        "id": "biH0wSeiuNF_"
      }
    },
    {
      "cell_type": "code",
      "source": [
        "# Create and train a random forest model\n",
        "rf = RandomForestRegressor(n_estimators=100)\n",
        "rf.fit(X_train, y_train)"
      ],
      "metadata": {
        "colab": {
          "base_uri": "https://localhost:8080/"
        },
        "id": "KMDG1Xq8FWYK",
        "outputId": "3b1731e0-3385-4aa4-dde5-f72b2db68380"
      },
      "execution_count": null,
      "outputs": [
        {
          "output_type": "execute_result",
          "data": {
            "text/plain": [
              "RandomForestRegressor()"
            ]
          },
          "metadata": {},
          "execution_count": 31
        }
      ]
    },
    {
      "cell_type": "markdown",
      "source": [
        "### MLPRegressor\n",
        "**Infos about MLP**\n",
        "> Multilayer perceptron (MLP) is a type of artificial neural network that is used for both classification and regression tasks. It consists of multiple layers of interconnected nodes, where each node represents a unit of computation and the connections between the nodes represent the weights of the model.\n",
        "\n",
        "> In the case of an MLP regressor, the goal is to predict a continuous variable rather than a categorical one. The algorithm works by training the model on a set of input-output pairs, where the input consists of the independent variables and the output is the dependent variable. The model learns the weights of the connections between the nodes by adjusting them based on the error between the predicted and actual values of the dependent variable.\n",
        "\n",
        "> MLP is a powerful algorithm that is widely used for predictive modeling and can be applied to a wide range of applications, including stock price prediction and demand forecasting. It is particularly useful when the relationship between the input and output variables is complex and non-linear."
      ],
      "metadata": {
        "id": "txGUQw2wuQrj"
      }
    },
    {
      "cell_type": "code",
      "source": [
        "# Create and train a MLPRegressor model\n",
        "mlp_reg = MLPRegressor(hidden_layer_sizes=(500,),   activation='relu', solver=\"adam\", learning_rate='adaptive',\n",
        "                      learning_rate_init=0.001,        max_iter=1000,)\n",
        "# fit it to the data\n",
        "mlp_reg.fit(X_train, y_train)\n"
      ],
      "metadata": {
        "colab": {
          "base_uri": "https://localhost:8080/"
        },
        "id": "OiCRi_g-FZ1C",
        "outputId": "521daa84-6cff-45e6-b4c7-10d901ea055d"
      },
      "execution_count": null,
      "outputs": [
        {
          "output_type": "execute_result",
          "data": {
            "text/plain": [
              "MLPRegressor(hidden_layer_sizes=(500,), learning_rate='adaptive', max_iter=1000)"
            ]
          },
          "metadata": {},
          "execution_count": 32
        }
      ]
    },
    {
      "cell_type": "code",
      "source": [
        "\n",
        "# Make predictions and evaluate model performance\n",
        "y_pred_lr = lr.predict(X_test)\n",
        "mse = mean_squared_error(y_test, y_pred_lr)\n",
        "print(\"Linear Regression MSE:\", mse)\n",
        "\n",
        "# Make predictions and evaluate model performance\n",
        "y_pred_rf = rf.predict(X_test)\n",
        "mse = mean_squared_error(y_test, y_pred_rf)\n",
        "print(\"Random Forest MSE:\", mse)\n",
        "\n",
        "# Make predictions and evaluate model performance\n",
        "y_pred_mlp = mlp_reg.predict(X_test)\n",
        "mse = mean_squared_error(y_test, y_pred_mlp)\n",
        "print(\"MLP MSE:\", mse)"
      ],
      "metadata": {
        "colab": {
          "base_uri": "https://localhost:8080/"
        },
        "id": "hVhJFNFLFcEn",
        "outputId": "f754dc2e-6a73-438e-f25a-f73fb85bf7f9"
      },
      "execution_count": null,
      "outputs": [
        {
          "output_type": "stream",
          "name": "stdout",
          "text": [
            "Linear Regression MSE: 4.922535729140948e-32\n",
            "Random Forest MSE: 0.0002541190812054472\n",
            "MLP MSE: 1.0913629493422053e-05\n"
          ]
        }
      ]
    },
    {
      "cell_type": "markdown",
      "source": [
        "### MLPRegressor\n",
        "**Infos about MLP**\n",
        "> Multilayer perceptron (MLP) is a type of artificial neural network that is used for both classification and regression tasks. It consists of multiple layers of interconnected nodes, where each node represents a unit of computation and the connections between the nodes represent the weights of the model.\n",
        "\n",
        "> In the case of an MLP regressor, the goal is to predict a continuous variable rather than a categorical one. The algorithm works by training the model on a set of input-output pairs, where the input consists of the independent variables and the output is the dependent variable. The model learns the weights of the connections between the nodes by adjusting them based on the error between the predicted and actual values of the dependent variable.\n",
        "\n",
        "> MLP is a powerful algorithm that is widely used for predictive modeling and can be applied to a wide range of applications, including stock price prediction and demand forecasting. It is particularly useful when the relationship between the input and output variables is complex and non-linear."
      ],
      "metadata": {
        "id": "dprW7f9auVZc"
      }
    },
    {
      "cell_type": "markdown",
      "source": [
        "## Show the predicted spread vs. the real spread "
      ],
      "metadata": {
        "id": "11j3iukruYhk"
      }
    },
    {
      "cell_type": "code",
      "source": [
        "plt.figure(figsize=(10,5))\n",
        "plt.plot(y_pred_lr.reshape(-1)[:155],label=\"predicted spread\",color=\"red\")\n",
        "plt.plot(y_test[:155],label=\"Real spread\")\n",
        "plt.legend()"
      ],
      "metadata": {
        "colab": {
          "base_uri": "https://localhost:8080/",
          "height": 338
        },
        "id": "6CgHaCJAFfLZ",
        "outputId": "6fb90f44-3b86-424f-b060-94aeef203c05"
      },
      "execution_count": null,
      "outputs": [
        {
          "output_type": "execute_result",
          "data": {
            "text/plain": [
              "<matplotlib.legend.Legend at 0x7f4668ec50a0>"
            ]
          },
          "metadata": {},
          "execution_count": 34
        },
        {
          "output_type": "display_data",
          "data": {
            "text/plain": [
              "<Figure size 720x360 with 1 Axes>"
            ],
            "image/png": "[encoded data removed]"
          },
          "metadata": {
            "needs_background": "light"
          }
        }
      ]
    },
    {
      "cell_type": "code",
      "source": [
        "plt.figure(figsize=(10,5))\n",
        "plt.plot(y_pred_lr.reshape(-1)[:155]-y_test[:155],label=\"The diff between the predicted spread & the real spread\",color=\"red\")\n",
        "plt.legend()"
      ],
      "metadata": {
        "colab": {
          "base_uri": "https://localhost:8080/",
          "height": 349
        },
        "id": "-VJvPzsMFjLR",
        "outputId": "d344ff35-8d1b-4c6d-dc28-84c883e1c0cb"
      },
      "execution_count": null,
      "outputs": [
        {
          "output_type": "execute_result",
          "data": {
            "text/plain": [
              "<matplotlib.legend.Legend at 0x7f466d87b5b0>"
            ]
          },
          "metadata": {},
          "execution_count": 35
        },
        {
          "output_type": "display_data",
          "data": {
            "text/plain": [
              "<Figure size 720x360 with 1 Axes>"
            ],
            "image/png": "[encoded data removed]"
          },
          "metadata": {
            "needs_background": "light"
          }
        }
      ]
    },
    {
      "cell_type": "markdown",
      "source": [
        "# Prediction & Model deploying"
      ],
      "metadata": {
        "id": "msl6cQJQuhDp"
      }
    },
    {
      "cell_type": "markdown",
      "source": [
        "* We use the predictions from the machine learning model to construct a trading strategy.\n",
        "* This could involve buying one stock in the pair when the predicted spread is below its mean and selling it when the predicted spread is above its mean, and doing the opposite for the other stock in the pair."
      ],
      "metadata": {
        "id": "5B96uSjfuiQb"
      }
    },
    {
      "cell_type": "code",
      "source": [
        "# chose the model yu want\n",
        "predictions  = y_pred_lr"
      ],
      "metadata": {
        "id": "W7kFzM-pFl5A"
      },
      "execution_count": null,
      "outputs": []
    },
    {
      "cell_type": "markdown",
      "source": [
        "<p>This code is creating a DataFrame called <code>df_test</code> to hold the stock prices and predicted spreads from the test set. It does this by assigning the first column of <code>X_test</code> (which contains the stock prices) to a column in the DataFrame with the name of the first stock, and the second column of <code>X_test</code> (which also contains stock prices) to a column in the DataFrame with the name of the second stock. It then adds a column called \"spread\" to the DataFrame with the values of <code>y_test</code>, which are the predicted spreads. The resulting DataFrame will have three columns: one for the price of the first stock, one for the price of the second stock, and one for the predicted spread between the two stocks.</p>\n"
      ],
      "metadata": {
        "id": "_4ymhcxQunqB"
      }
    },
    {
      "cell_type": "code",
      "source": [
        "df_test = pd.DataFrame()\n",
        "df_test[stock_1_price] = X_test[:,0]\n",
        "df_test[stock_2_price] = X_test[:,1]\n",
        "df_test[\"spread\"] = y_test"
      ],
      "metadata": {
        "id": "3ff9ut9YFno2"
      },
      "execution_count": null,
      "outputs": []
    },
    {
      "cell_type": "code",
      "source": [
        "df_test.head()"
      ],
      "metadata": {
        "colab": {
          "base_uri": "https://localhost:8080/",
          "height": 206
        },
        "id": "KnxhysjjFpMn",
        "outputId": "d0d4eb05-954c-4b43-b6d0-d0caac90b025"
      },
      "execution_count": null,
      "outputs": [
        {
          "output_type": "execute_result",
          "data": {
            "text/plain": [
              "        AMD      AMAT    spread\n",
              "0  0.584690  0.653198  0.483734\n",
              "1  0.038680  0.016927  0.619410\n",
              "2  0.014848  0.034044  0.548580\n",
              "3  0.020525  0.012154  0.595909\n",
              "4  0.013413  0.047980  0.522250"
            ],
            "text/html": [
              "\n",
              "  <div id=\"df-88e7f962-0a0c-459c-b16a-d1b0b8654689\">\n",
              "    <div class=\"colab-df-container\">\n",
              "      <div>\n",
              "<style scoped>\n",
              "    .dataframe tbody tr th:only-of-type {\n",
              "        vertical-align: middle;\n",
              "    }\n",
              "\n",
              "    .dataframe tbody tr th {\n",
              "        vertical-align: top;\n",
              "    }\n",
              "\n",
              "    .dataframe thead th {\n",
              "        text-align: right;\n",
              "    }\n",
              "</style>\n",
              "<table border=\"1\" class=\"dataframe\">\n",
              "  <thead>\n",
              "    <tr style=\"text-align: right;\">\n",
              "      <th></th>\n",
              "      <th>AMD</th>\n",
              "      <th>AMAT</th>\n",
              "      <th>spread</th>\n",
              "    </tr>\n",
              "  </thead>\n",
              "  <tbody>\n",
              "    <tr>\n",
              "      <th>0</th>\n",
              "      <td>0.584690</td>\n",
              "      <td>0.653198</td>\n",
              "      <td>0.483734</td>\n",
              "    </tr>\n",
              "    <tr>\n",
              "      <th>1</th>\n",
              "      <td>0.038680</td>\n",
              "      <td>0.016927</td>\n",
              "      <td>0.619410</td>\n",
              "    </tr>\n",
              "    <tr>\n",
              "      <th>2</th>\n",
              "      <td>0.014848</td>\n",
              "      <td>0.034044</td>\n",
              "      <td>0.548580</td>\n",
              "    </tr>\n",
              "    <tr>\n",
              "      <th>3</th>\n",
              "      <td>0.020525</td>\n",
              "      <td>0.012154</td>\n",
              "      <td>0.595909</td>\n",
              "    </tr>\n",
              "    <tr>\n",
              "      <th>4</th>\n",
              "      <td>0.013413</td>\n",
              "      <td>0.047980</td>\n",
              "      <td>0.522250</td>\n",
              "    </tr>\n",
              "  </tbody>\n",
              "</table>\n",
              "</div>\n",
              "      <button class=\"colab-df-convert\" onclick=\"convertToInteractive('df-88e7f962-0a0c-459c-b16a-d1b0b8654689')\"\n",
              "              title=\"Convert this dataframe to an interactive table.\"\n",
              "              style=\"display:none;\">\n",
              "        \n",
              "  <svg xmlns=\"http://www.w3.org/2000/svg\" height=\"24px\"viewBox=\"0 0 24 24\"\n",
              "       width=\"24px\">\n",
              "    <path d=\"M0 0h24v24H0V0z\" fill=\"none\"/>\n",
              "    <path d=\"M18.56 5.44l.94 2.06.94-2.06 2.06-.94-2.06-.94-.94-2.06-.94 2.06-2.06.94zm-11 1L8.5 8.5l.94-2.06 2.06-.94-2.06-.94L8.5 2.5l-.94 2.06-2.06.94zm10 10l.94 2.06.94-2.06 2.06-.94-2.06-.94-.94-2.06-.94 2.06-2.06.94z\"/><path d=\"M17.41 7.96l-1.37-1.37c-.4-.4-.92-.59-1.43-.59-.52 0-1.04.2-1.43.59L10.3 9.45l-7.72 7.72c-.78.78-.78 2.05 0 2.83L4 21.41c.39.39.9.59 1.41.59.51 0 1.02-.2 1.41-.59l7.78-7.78 2.81-2.81c.8-.78.8-2.07 0-2.86zM5.41 20L4 18.59l7.72-7.72 1.47 1.35L5.41 20z\"/>\n",
              "  </svg>\n",
              "      </button>\n",
              "      \n",
              "  <style>\n",
              "    .colab-df-container {\n",
              "      display:flex;\n",
              "      flex-wrap:wrap;\n",
              "      gap: 12px;\n",
              "    }\n",
              "\n",
              "    .colab-df-convert {\n",
              "      background-color: #E8F0FE;\n",
              "      border: none;\n",
              "      border-radius: 50%;\n",
              "      cursor: pointer;\n",
              "      display: none;\n",
              "      fill: #1967D2;\n",
              "      height: 32px;\n",
              "      padding: 0 0 0 0;\n",
              "      width: 32px;\n",
              "    }\n",
              "\n",
              "    .colab-df-convert:hover {\n",
              "      background-color: #E2EBFA;\n",
              "      box-shadow: 0px 1px 2px rgba(60, 64, 67, 0.3), 0px 1px 3px 1px rgba(60, 64, 67, 0.15);\n",
              "      fill: #174EA6;\n",
              "    }\n",
              "\n",
              "    [theme=dark] .colab-df-convert {\n",
              "      background-color: #3B4455;\n",
              "      fill: #D2E3FC;\n",
              "    }\n",
              "\n",
              "    [theme=dark] .colab-df-convert:hover {\n",
              "      background-color: #434B5C;\n",
              "      box-shadow: 0px 1px 3px 1px rgba(0, 0, 0, 0.15);\n",
              "      filter: drop-shadow(0px 1px 2px rgba(0, 0, 0, 0.3));\n",
              "      fill: #FFFFFF;\n",
              "    }\n",
              "  </style>\n",
              "\n",
              "      <script>\n",
              "        const buttonEl =\n",
              "          document.querySelector('#df-88e7f962-0a0c-459c-b16a-d1b0b8654689 button.colab-df-convert');\n",
              "        buttonEl.style.display =\n",
              "          google.colab.kernel.accessAllowed ? 'block' : 'none';\n",
              "\n",
              "        async function convertToInteractive(key) {\n",
              "          const element = document.querySelector('#df-88e7f962-0a0c-459c-b16a-d1b0b8654689');\n",
              "          const dataTable =\n",
              "            await google.colab.kernel.invokeFunction('convertToInteractive',\n",
              "                                                     [key], {});\n",
              "          if (!dataTable) return;\n",
              "\n",
              "          const docLinkHtml = 'Like what you see? Visit the ' +\n",
              "            '<a target=\"_blank\" href=https://colab.research.google.com/notebooks/data_table.ipynb>data table notebook</a>'\n",
              "            + ' to learn more about interactive tables.';\n",
              "          element.innerHTML = '';\n",
              "          dataTable['output_type'] = 'display_data';\n",
              "          await google.colab.output.renderOutput(dataTable, element);\n",
              "          const docLink = document.createElement('div');\n",
              "          docLink.innerHTML = docLinkHtml;\n",
              "          element.appendChild(docLink);\n",
              "        }\n",
              "      </script>\n",
              "    </div>\n",
              "  </div>\n",
              "  "
            ]
          },
          "metadata": {},
          "execution_count": 38
        }
      ]
    },
    {
      "cell_type": "code",
      "source": [
        "# Calculate the mean of the spread\n",
        "mean_spread = df_test[\"spread\"].mean()\n",
        "\n",
        "# Initialize a list to store the trades\n",
        "trades = []\n",
        "\n",
        "# Iterate through the predictions and construct trades\n",
        "for i, prediction in enumerate(predictions):\n",
        "  # If the predicted spread is below the mean, buy stock 1 and sell stock 2\n",
        "  if prediction < mean_spread:\n",
        "    trades.append((\"BUY\", stock_1_price, \"SELL\", stock_2_price))\n",
        "  # If the predicted spread is above the mean, sell stock 1 and buy stock 2\n",
        "  elif prediction > mean_spread:\n",
        "    trades.append((\"SELL\", stock_1_price, \"BUY\", stock_2_price))\n",
        "\n",
        "# Print the trades\n",
        "print(\"Trading signals\",trades[:2])"
      ],
      "metadata": {
        "colab": {
          "base_uri": "https://localhost:8080/"
        },
        "id": "HKN2Odf3FrCm",
        "outputId": "81ff7edb-af29-483e-ce2e-b0e764aa7092"
      },
      "execution_count": null,
      "outputs": [
        {
          "output_type": "stream",
          "name": "stdout",
          "text": [
            "Trading signals [('BUY', 'AMD', 'SELL', 'AMAT'), ('SELL', 'AMD', 'BUY', 'AMAT')]\n"
          ]
        }
      ]
    },
    {
      "cell_type": "markdown",
      "source": [
        "This code will create a list of trades, where each trade is represented as a tuple with the format\n",
        "<code>(action, stock, action, stock)</code>. The <code>\"action\"</code> can be either <code>\"BUY\"</code> or <code>\"SELL\"</code>, and the <code>\"stock\"</code> is the name of the stock being bought or sold. The code will buy stock 1 and sell stock 2 if the predicted spread is below the mean, and will sell stock 1 and buy stock 2 if the predicted spread is above the mean."
      ],
      "metadata": {
        "id": "0juPMrZuur4y"
      }
    },
    {
      "cell_type": "markdown",
      "source": [
        "Backtesting the trading strategy to see how it would have performed on the test data. This can be done by keeping track of the positions held and the profits or losses made at each time step, and then calculating the overall performance of the strategy."
      ],
      "metadata": {
        "id": "95B4ZXuKuuYj"
      }
    },
    {
      "cell_type": "code",
      "source": [
        "# Initialize variables to track the portfolio value and positions\n",
        "portfolio_value = 100000\n",
        "positions = {stock_1_price: 0, stock_1_price: 0}\n",
        "\n",
        "# Iterate through the trades and update the portfolio value and positions\n",
        "for trade in trades:\n",
        "    action, stock, _, _ = trade\n",
        "    if action == \"BUY\":\n",
        "        positions[stock] += 1\n",
        "        portfolio_value -= df_test[stock].iloc[i]\n",
        "    elif action == \"SELL\":\n",
        "        positions[stock] -= 1\n",
        "        portfolio_value += df_test[stock ].iloc[i]\n",
        "\n",
        "# Calculate the final value of the portfolio\n",
        "final_value = portfolio_value\n",
        "for stock, position in positions.items():\n",
        "    final_value += position * df[stock].iloc[-1]\n",
        "\n",
        "# Calculate the return of the portfolio\n",
        "returns = (final_value - 100000) / 100000\n",
        "print(f\"Returns: {returns}\")\n"
      ],
      "metadata": {
        "id": "00q2CVB8FxlS",
        "outputId": "93e7fecb-389b-48c8-a014-82f4d7efaf91",
        "colab": {
          "base_uri": "https://localhost:8080/"
        }
      },
      "execution_count": null,
      "outputs": [
        {
          "output_type": "stream",
          "name": "stdout",
          "text": [
            "Returns: -0.06476587910640227\n"
          ]
        }
      ]
    },
    {
      "cell_type": "markdown",
      "source": [
        "<p>This code is backtesting the pairs trading strategy by simulating how it would have performed on the test data. It initializes variables to track the portfolio value and positions of the two stocks. The <code>portfolio_value</code> is initialized to 100,000 and the <code>positions</code> dictionary is initialized with both stocks having a position of 0.</p>\n",
        "\n",
        "<p>The code then iterates through the <code>trades</code> list and updates the portfolio value and positions based on the actions specified in each trade. If the action is \"BUY\", it increments the position of the stock being bought and decrements the portfolio value by the price of the stock. If the action is \"SELL\", it decrements the position of the stock being sold and increments the portfolio value by the price of the stock.</p>\n",
        "\n",
        "<p>After all the trades have been processed, the code calculates the final value of the portfolio by adding the positions of the two stocks to the portfolio value. It then calculates the returns of the portfolio by dividing the final value by the initial value. Finally, it prints the returns of the portfolio.</p>\n"
      ],
      "metadata": {
        "id": "Vtb9ea3muySP"
      }
    }
  ]
}
